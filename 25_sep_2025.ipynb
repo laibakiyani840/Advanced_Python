{
 "cells": [
  {
   "cell_type": "code",
   "execution_count": null,
   "id": "3db736fe",
   "metadata": {},
   "outputs": [
    {
     "data": {
      "text/plain": [
       "'hello'"
      ]
     },
     "execution_count": 1,
     "metadata": {},
     "output_type": "execute_result"
    }
   ],
   "source": [
    "# Converts all charcters to lowercase\n",
    "'HELLO'.lower()"
   ]
  },
  {
   "cell_type": "code",
   "execution_count": 2,
   "id": "fd115c24",
   "metadata": {},
   "outputs": [
    {
     "data": {
      "text/plain": [
       "' i am laiba kiyani. i am a student of mathematics. i love coding and programming. '"
      ]
     },
     "execution_count": 2,
     "metadata": {},
     "output_type": "execute_result"
    }
   ],
   "source": [
    "' i am Laiba kiyani. I am a student of Mathematics. I love coding and programming. '.lower()"
   ]
  },
  {
   "cell_type": "code",
   "execution_count": 6,
   "id": "5167905b",
   "metadata": {},
   "outputs": [
    {
     "data": {
      "text/plain": [
       "True"
      ]
     },
     "execution_count": 6,
     "metadata": {},
     "output_type": "execute_result"
    }
   ],
   "source": [
    "# islower() function checks if all the characters in the string are lowercase\n",
    "'i am laiba kiyani. i am a student of mathematics. i love coding and programming.'.islower()"
   ]
  },
  {
   "cell_type": "code",
   "execution_count": 5,
   "id": "d19af739",
   "metadata": {},
   "outputs": [
    {
     "data": {
      "text/plain": [
       "False"
      ]
     },
     "execution_count": 5,
     "metadata": {},
     "output_type": "execute_result"
    }
   ],
   "source": [
    "' I am Laiba kiyani. I am a student of mathematics.I love coding and programming. ' .islower()"
   ]
  },
  {
   "cell_type": "code",
   "execution_count": 7,
   "id": "bb0ba0b0",
   "metadata": {},
   "outputs": [
    {
     "data": {
      "text/plain": [
       "True"
      ]
     },
     "execution_count": 7,
     "metadata": {},
     "output_type": "execute_result"
    }
   ],
   "source": [
    "#  isupper() function checks if all the characters in the string are uppercase\n",
    "'HELLO'.isupper()\n"
   ]
  },
  {
   "cell_type": "code",
   "execution_count": 8,
   "id": "01f8a2f8",
   "metadata": {},
   "outputs": [
    {
     "data": {
      "text/plain": [
       "False"
      ]
     },
     "execution_count": 8,
     "metadata": {},
     "output_type": "execute_result"
    }
   ],
   "source": [
    "'i dream of a better world'.isupper()"
   ]
  },
  {
   "cell_type": "code",
   "execution_count": 9,
   "id": "5d772d98",
   "metadata": {},
   "outputs": [
    {
     "data": {
      "text/plain": [
       "False"
      ]
     },
     "execution_count": 9,
     "metadata": {},
     "output_type": "execute_result"
    }
   ],
   "source": [
    "'i dream my future husband is looking like a prince'.isupper()"
   ]
  },
  {
   "cell_type": "code",
   "execution_count": 10,
   "id": "59983324",
   "metadata": {},
   "outputs": [
    {
     "data": {
      "text/plain": [
       "'HELLO'"
      ]
     },
     "execution_count": 10,
     "metadata": {},
     "output_type": "execute_result"
    }
   ],
   "source": [
    "# upper() function converts all characters to uppercase\n",
    "'hello'.upper()"
   ]
  },
  {
   "cell_type": "code",
   "execution_count": 11,
   "id": "2f9e8d41",
   "metadata": {},
   "outputs": [
    {
     "data": {
      "text/plain": [
       "True"
      ]
     },
     "execution_count": 11,
     "metadata": {},
     "output_type": "execute_result"
    }
   ],
   "source": [
    "'i am laiba kiyani. i am a student of mathematics. i love coding and programming. '.islower()"
   ]
  },
  {
   "cell_type": "code",
   "execution_count": 14,
   "id": "9387323e",
   "metadata": {},
   "outputs": [
    {
     "data": {
      "text/plain": [
       "2"
      ]
     },
     "execution_count": 14,
     "metadata": {},
     "output_type": "execute_result"
    }
   ],
   "source": [
    "# count() function counts the number of occurrences of a substring in the given string\n",
    "'hello world'.count('o')"
   ]
  },
  {
   "cell_type": "code",
   "execution_count": 16,
   "id": "c55196fa",
   "metadata": {},
   "outputs": [
    {
     "data": {
      "text/plain": [
       "2"
      ]
     },
     "execution_count": 16,
     "metadata": {},
     "output_type": "execute_result"
    }
   ],
   "source": [
    "'i am laiba kiyani. i am a student of mathematics. i love coding and programming. '.count('l')"
   ]
  },
  {
   "cell_type": "code",
   "execution_count": 17,
   "id": "cad880ce",
   "metadata": {},
   "outputs": [
    {
     "data": {
      "text/plain": [
       "'hello world'"
      ]
     },
     "execution_count": 17,
     "metadata": {},
     "output_type": "execute_result"
    }
   ],
   "source": [
    "# strip() function removes any leading (spaces at the beginning) and trailing (spaces at the end) characters (space is the default leading character to remove)\n",
    "'   hello world   '.strip()"
   ]
  },
  {
   "cell_type": "code",
   "execution_count": 18,
   "id": "96a48e8c",
   "metadata": {},
   "outputs": [
    {
     "data": {
      "text/plain": [
       "'saalmat is a my best friend.    He is very good in studies.   Saalmat is very punctual.'"
      ]
     },
     "execution_count": 18,
     "metadata": {},
     "output_type": "execute_result"
    }
   ],
   "source": [
    "' saalmat is a my best friend.    He is very good in studies.   Saalmat is very punctual.    '.strip()"
   ]
  },
  {
   "cell_type": "code",
   "execution_count": 20,
   "id": "0553125a",
   "metadata": {},
   "outputs": [
    {
     "data": {
      "text/plain": [
       "'hello universe'"
      ]
     },
     "execution_count": 20,
     "metadata": {},
     "output_type": "execute_result"
    }
   ],
   "source": [
    "# replace() function replaces a string with another string\n",
    "'hello world'.replace('world', 'universe')"
   ]
  },
  {
   "cell_type": "code",
   "execution_count": 24,
   "id": "8c55efdf",
   "metadata": {},
   "outputs": [
    {
     "data": {
      "text/plain": [
       "' Salamat love Fatima. He is very punctual. He is very good in studies. '"
      ]
     },
     "execution_count": 24,
     "metadata": {},
     "output_type": "execute_result"
    }
   ],
   "source": [
    "' Sultan love Fatima. He is very punctual. He is very good in studies. '.replace('Sultan', 'Salamat')"
   ]
  },
  {
   "cell_type": "code",
   "execution_count": 25,
   "id": "bc1859b8",
   "metadata": {},
   "outputs": [
    {
     "data": {
      "text/plain": [
       "'he**o wor*d'"
      ]
     },
     "execution_count": 25,
     "metadata": {},
     "output_type": "execute_result"
    }
   ],
   "source": [
    "'hello world'.replace('l', '*')  "
   ]
  },
  {
   "cell_type": "code",
   "execution_count": 27,
   "id": "86070d33",
   "metadata": {},
   "outputs": [
    {
     "data": {
      "text/plain": [
       "'hello-world-from'"
      ]
     },
     "execution_count": 27,
     "metadata": {},
     "output_type": "execute_result"
    }
   ],
   "source": [
    "# join() function takes all items in an iterable and joins them into one string. A string must be specified as the separator.\n",
    "'-'.join(['hello', 'world', 'from'])"
   ]
  },
  {
   "cell_type": "code",
   "execution_count": 28,
   "id": "deac9870",
   "metadata": {},
   "outputs": [
    {
     "data": {
      "text/plain": [
       "'i am laiba kiyani'"
      ]
     },
     "execution_count": 28,
     "metadata": {},
     "output_type": "execute_result"
    }
   ],
   "source": [
    "' '.join(['i', 'am', 'laiba', 'kiyani'])"
   ]
  },
  {
   "cell_type": "code",
   "execution_count": 29,
   "id": "ca6c428e",
   "metadata": {},
   "outputs": [
    {
     "data": {
      "text/plain": [
       "'1*2*3*4*5'"
      ]
     },
     "execution_count": 29,
     "metadata": {},
     "output_type": "execute_result"
    }
   ],
   "source": [
    "'*' .join(['1', '2', '3', '4', '5'])"
   ]
  },
  {
   "cell_type": "code",
   "execution_count": 32,
   "id": "5af700a2",
   "metadata": {},
   "outputs": [
    {
     "data": {
      "text/plain": [
       "['hello', 'world', 'from', 'python']"
      ]
     },
     "execution_count": 32,
     "metadata": {},
     "output_type": "execute_result"
    }
   ],
   "source": [
    "# split() function splits a string into a list where each word is a list item.\n",
    "'hello world from python'.split()"
   ]
  },
  {
   "cell_type": "markdown",
   "id": "d6cffded",
   "metadata": {},
   "source": []
  },
  {
   "cell_type": "code",
   "execution_count": 40,
   "id": "6e71b4e8",
   "metadata": {},
   "outputs": [
    {
     "data": {
      "text/plain": [
       "['you are',\n",
       " ' not a true friend',\n",
       " ' if you do not help',\n",
       " ' your friends',\n",
       " ' in their hard times']"
      ]
     },
     "execution_count": 40,
     "metadata": {},
     "output_type": "execute_result"
    }
   ],
   "source": [
    "'you are* not a true friend* if you do not help* your friends* in their hard times'.split('*')"
   ]
  },
  {
   "cell_type": "code",
   "execution_count": 41,
   "id": "d0dd0a24",
   "metadata": {},
   "outputs": [
    {
     "data": {
      "text/plain": [
       "['you', 'dont', 'know', 'me']"
      ]
     },
     "execution_count": 41,
     "metadata": {},
     "output_type": "execute_result"
    }
   ],
   "source": [
    "'you-dont-know-me' .split('-')"
   ]
  },
  {
   "cell_type": "code",
   "execution_count": 43,
   "id": "7f4d9aea",
   "metadata": {},
   "outputs": [
    {
     "data": {
      "text/plain": [
       "['fatima', 'sultan', 'kiyani']"
      ]
     },
     "execution_count": 43,
     "metadata": {},
     "output_type": "execute_result"
    }
   ],
   "source": [
    "'fatima/sultan/kiyani' .split('/')"
   ]
  },
  {
   "cell_type": "code",
   "execution_count": 45,
   "id": "a10b5b16",
   "metadata": {},
   "outputs": [
    {
     "data": {
      "text/plain": [
       "'yth'"
      ]
     },
     "execution_count": 45,
     "metadata": {},
     "output_type": "execute_result"
    }
   ],
   "source": [
    "# substring(slicing) \n",
    "'python'[1:4]  # it will print from index 1 to index 3"
   ]
  },
  {
   "cell_type": "code",
   "execution_count": 46,
   "id": "b647be96",
   "metadata": {},
   "outputs": [
    {
     "data": {
      "text/plain": [
       "'lov'"
      ]
     },
     "execution_count": 46,
     "metadata": {},
     "output_type": "execute_result"
    }
   ],
   "source": [
    "'you love me' [4:7]  # it will print from index 4 to index 6"
   ]
  },
  {
   "cell_type": "code",
   "execution_count": 47,
   "id": "1cc01084",
   "metadata": {},
   "outputs": [
    {
     "data": {
      "text/plain": [
       "'iyani. i'"
      ]
     },
     "execution_count": 47,
     "metadata": {},
     "output_type": "execute_result"
    }
   ],
   "source": [
    "'i am laiba kiyani. i am a student of mathematics. i love coding and programming. '[12:20]  # it will print from index 12 to index 19"
   ]
  },
  {
   "cell_type": "code",
   "execution_count": 56,
   "id": "c7ab883a",
   "metadata": {},
   "outputs": [
    {
     "data": {
      "text/plain": [
       "'ell'"
      ]
     },
     "execution_count": 56,
     "metadata": {},
     "output_type": "execute_result"
    }
   ],
   "source": [
    "text = 'hello world'\n",
    "text[1:4]  # it will print from index 1 to index 3\n",
    "\n"
   ]
  },
  {
   "cell_type": "code",
   "execution_count": 53,
   "id": "7eb48ba9",
   "metadata": {},
   "outputs": [
    {
     "data": {
      "text/plain": [
       "'hello'"
      ]
     },
     "execution_count": 53,
     "metadata": {},
     "output_type": "execute_result"
    }
   ],
   "source": [
    "text[0:5]  # it will print from index 0 to index 4"
   ]
  },
  {
   "cell_type": "code",
   "execution_count": 54,
   "id": "d9f04bb5",
   "metadata": {},
   "outputs": [
    {
     "data": {
      "text/plain": [
       "'hello'"
      ]
     },
     "execution_count": 54,
     "metadata": {},
     "output_type": "execute_result"
    }
   ],
   "source": [
    "text[:5]   # it will print from index 0 to index 4  "
   ]
  },
  {
   "cell_type": "code",
   "execution_count": 55,
   "id": "1015a328",
   "metadata": {},
   "outputs": [
    {
     "data": {
      "text/plain": [
       "'world'"
      ]
     },
     "execution_count": 55,
     "metadata": {},
     "output_type": "execute_result"
    }
   ],
   "source": [
    "text[6:]   # it will print from index 6 to the end of the string"
   ]
  },
  {
   "cell_type": "code",
   "execution_count": 57,
   "id": "94a323f3",
   "metadata": {},
   "outputs": [
    {
     "data": {
      "text/plain": [
       "'hello world'"
      ]
     },
     "execution_count": 57,
     "metadata": {},
     "output_type": "execute_result"
    }
   ],
   "source": [
    "text[:]    # it will print the whole string"
   ]
  },
  {
   "cell_type": "code",
   "execution_count": null,
   "id": "dfaf3b83",
   "metadata": {},
   "outputs": [
    {
     "data": {
      "text/plain": [
       "'h'"
      ]
     },
     "execution_count": 59,
     "metadata": {},
     "output_type": "execute_result"
    }
   ],
   "source": [
    "# Indexing\n",
    "text = 'hello world'    \n",
    "text[0]   # it will print the first character of the string\n"
   ]
  },
  {
   "cell_type": "code",
   "execution_count": 60,
   "id": "14962ebc",
   "metadata": {},
   "outputs": [
    {
     "data": {
      "text/plain": [
       "'e'"
      ]
     },
     "execution_count": 60,
     "metadata": {},
     "output_type": "execute_result"
    }
   ],
   "source": [
    "text[1]   # it will print the second character of the string"
   ]
  },
  {
   "cell_type": "code",
   "execution_count": 61,
   "id": "25ebafc4",
   "metadata": {},
   "outputs": [
    {
     "data": {
      "text/plain": [
       "'r'"
      ]
     },
     "execution_count": 61,
     "metadata": {},
     "output_type": "execute_result"
    }
   ],
   "source": [
    "text[-3]  # it will print the third last character of the string  "
   ]
  },
  {
   "cell_type": "code",
   "execution_count": 62,
   "id": "5ca9a6a3",
   "metadata": {},
   "outputs": [
    {
     "data": {
      "text/plain": [
       "'l'"
      ]
     },
     "execution_count": 62,
     "metadata": {},
     "output_type": "execute_result"
    }
   ],
   "source": [
    "text[2]   # it will print the third character of the string\n"
   ]
  },
  {
   "cell_type": "code",
   "execution_count": 63,
   "id": "27199a4b",
   "metadata": {},
   "outputs": [
    {
     "data": {
      "text/plain": [
       "'l'"
      ]
     },
     "execution_count": 63,
     "metadata": {},
     "output_type": "execute_result"
    }
   ],
   "source": [
    "\n",
    "text[-2]  # it will print the second last character of the string"
   ]
  },
  {
   "cell_type": "code",
   "execution_count": 64,
   "id": "48f74f6e",
   "metadata": {},
   "outputs": [
    {
     "data": {
      "text/plain": [
       "'d'"
      ]
     },
     "execution_count": 64,
     "metadata": {},
     "output_type": "execute_result"
    }
   ],
   "source": [
    "text[-1]  # it will print the last character of the string\n"
   ]
  },
  {
   "cell_type": "code",
   "execution_count": null,
   "id": "6dc638e8",
   "metadata": {},
   "outputs": [],
   "source": []
  }
 ],
 "metadata": {
  "kernelspec": {
   "display_name": "base",
   "language": "python",
   "name": "python3"
  },
  "language_info": {
   "codemirror_mode": {
    "name": "ipython",
    "version": 3
   },
   "file_extension": ".py",
   "mimetype": "text/x-python",
   "name": "python",
   "nbconvert_exporter": "python",
   "pygments_lexer": "ipython3",
   "version": "3.13.5"
  }
 },
 "nbformat": 4,
 "nbformat_minor": 5
}
