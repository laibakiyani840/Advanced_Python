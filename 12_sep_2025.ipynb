{
 "cells": [
  {
   "cell_type": "code",
   "execution_count": 1,
   "id": "1d1159af-b770-4396-83ec-4477686f547a",
   "metadata": {},
   "outputs": [
    {
     "name": "stdout",
     "output_type": "stream",
     "text": [
      "hello laiba\n"
     ]
    }
   ],
   "source": [
    "a=\"hello\"\n",
    "b=\"laiba\"\n",
    "print(a,b)"
   ]
  },
  {
   "cell_type": "code",
   "execution_count": 2,
   "id": "40bb5451-c152-44eb-91d8-ef99c5c868e4",
   "metadata": {},
   "outputs": [
    {
     "name": "stdout",
     "output_type": "stream",
     "text": [
      "hello  laiba\n"
     ]
    }
   ],
   "source": [
    "a=\"hello\"\n",
    "b=\"laiba\"\n",
    "print(a,\"\",b)"
   ]
  },
  {
   "cell_type": "code",
   "execution_count": 3,
   "id": "128d9c5f-b2d3-42e6-8872-ac3404df975b",
   "metadata": {},
   "outputs": [
    {
     "data": {
      "text/plain": [
       "12"
      ]
     },
     "execution_count": 3,
     "metadata": {},
     "output_type": "execute_result"
    }
   ],
   "source": [
    "uni=\"Quaid A Azam\"\n",
    "len(uni)"
   ]
  },
  {
   "cell_type": "code",
   "execution_count": 5,
   "id": "211f0fbf-1946-48c8-b2ad-1675eca22c2f",
   "metadata": {},
   "outputs": [
    {
     "name": "stdin",
     "output_type": "stream",
     "text": [
      "Enter the first name: Laiba\n",
      "Enter the last name: Kiyani\n"
     ]
    },
    {
     "name": "stdout",
     "output_type": "stream",
     "text": [
      "Name: Laiba Kiyani\n"
     ]
    }
   ],
   "source": [
    "# input function always give result in string.\n",
    "f_name=input(\"Enter the first name:\")\n",
    "l_name=input(\"Enter the last name:\")\n",
    "print(\"Name:\",f_name,l_name)"
   ]
  },
  {
   "cell_type": "code",
   "execution_count": null,
   "id": "ef01505f-fe60-4974-a010-20a8d131fab4",
   "metadata": {},
   "outputs": [],
   "source": [
    "# (# is used for Comment)\n",
    "# Difference between Backspace and delete key?\n",
    "# Ans: The Backspace key delete the character to the left of the cursor,while Delete key deletes the character to the right side of the cursor.\n"
   ]
  },
  {
   "cell_type": "code",
   "execution_count": 7,
   "id": "7be42b00-960d-475c-af9d-dfc5860e988b",
   "metadata": {},
   "outputs": [
    {
     "data": {
      "text/plain": [
       "complex"
      ]
     },
     "execution_count": 7,
     "metadata": {},
     "output_type": "execute_result"
    }
   ],
   "source": [
    "xyz=5+6j\n",
    "type(xyz)"
   ]
  },
  {
   "cell_type": "code",
   "execution_count": 8,
   "id": "8a81dcd9-ab5a-4011-af99-884982ea6059",
   "metadata": {},
   "outputs": [
    {
     "name": "stdout",
     "output_type": "stream",
     "text": [
      "30\n"
     ]
    }
   ],
   "source": [
    "a=10\n",
    "b=20\n",
    "print(a+b)\n"
   ]
  },
  {
   "cell_type": "code",
   "execution_count": 9,
   "id": "38f49e36-30f5-4809-a6b0-62d9aede99b3",
   "metadata": {},
   "outputs": [
    {
     "name": "stdout",
     "output_type": "stream",
     "text": [
      "30\n"
     ]
    }
   ],
   "source": [
    "c=a+b\n",
    "print(c)\n"
   ]
  },
  {
   "cell_type": "code",
   "execution_count": 11,
   "id": "a962d6d5-26a3-4d58-9115-fb17eddfc9db",
   "metadata": {},
   "outputs": [
    {
     "name": "stdout",
     "output_type": "stream",
     "text": [
      "10 + 20 = 30\n"
     ]
    }
   ],
   "source": [
    "print(a,\"+\",b,\"=\",c)\n"
   ]
  },
  {
   "cell_type": "code",
   "execution_count": 14,
   "id": "9f38d8b4-d7d0-4f02-8adc-42e940f63155",
   "metadata": {},
   "outputs": [
    {
     "name": "stdout",
     "output_type": "stream",
     "text": [
      "10\n",
      "a\n",
      "a\n"
     ]
    }
   ],
   "source": [
    "a=10\n",
    "print(a)\n",
    "print('a')\n",
    "print(\"a\")\n",
    "\n"
   ]
  },
  {
   "cell_type": "code",
   "execution_count": 15,
   "id": "a88e2c7e-22e0-430b-b088-478fbe9a40e8",
   "metadata": {},
   "outputs": [],
   "source": [
    "a=12\n",
    "b=2\n",
    "mul=a*b\n"
   ]
  },
  {
   "cell_type": "code",
   "execution_count": 16,
   "id": "8d89153b-dfb5-49b2-9016-2ca18bf43824",
   "metadata": {},
   "outputs": [
    {
     "name": "stdout",
     "output_type": "stream",
     "text": [
      "144\n"
     ]
    }
   ],
   "source": [
    "# a**b mean a^b\n",
    "a=12\n",
    "b=2\n",
    "print(a**b)\n"
   ]
  },
  {
   "cell_type": "code",
   "execution_count": 17,
   "id": "d1503d9d-eb0a-440d-b148-289ca1073eb0",
   "metadata": {},
   "outputs": [
    {
     "name": "stdout",
     "output_type": "stream",
     "text": [
      "144\n"
     ]
    }
   ],
   "source": [
    "abc=a**b\n",
    "print(abc)\n"
   ]
  },
  {
   "cell_type": "code",
   "execution_count": 18,
   "id": "fa5615e1-e08d-4e78-98ba-f107f9181e34",
   "metadata": {},
   "outputs": [
    {
     "data": {
      "text/plain": [
       "6.0"
      ]
     },
     "execution_count": 18,
     "metadata": {},
     "output_type": "execute_result"
    }
   ],
   "source": [
    "l=12\n",
    "z=2\n",
    "l/z\n"
   ]
  },
  {
   "cell_type": "code",
   "execution_count": 21,
   "id": "b1a8adc3-d123-41d2-b70f-6cff53ef1d6c",
   "metadata": {},
   "outputs": [
    {
     "name": "stdout",
     "output_type": "stream",
     "text": [
      "Addition: {15}\n"
     ]
    }
   ],
   "source": [
    "# print(\"addition:\",num1+num2)=print(f\"Addition:{num1+num2})\n",
    "num1=10\n",
    "num2=5\n",
    "print(f\"Addition:\",{num1+num2})\n"
   ]
  },
  {
   "cell_type": "code",
   "execution_count": 22,
   "id": "3b4198ef-9e38-4a7a-a086-2f787189a282",
   "metadata": {},
   "outputs": [
    {
     "name": "stdout",
     "output_type": "stream",
     "text": [
      "Subtraction: {5}\n"
     ]
    }
   ],
   "source": [
    "print(f\"Subtraction:\",{num1-num2})"
   ]
  },
  {
   "cell_type": "code",
   "execution_count": null,
   "id": "71dd0f61-fd3c-41b7-9573-efa9a9209fa2",
   "metadata": {},
   "outputs": [],
   "source": []
  },
  {
   "cell_type": "code",
   "execution_count": 23,
   "id": "7df1fd1e-b175-4a04-9420-3f5dfee06555",
   "metadata": {},
   "outputs": [
    {
     "name": "stdout",
     "output_type": "stream",
     "text": [
      "Multiplication: {50}\n"
     ]
    }
   ],
   "source": [
    "print(f\"Multiplication:\",{num1*num2})"
   ]
  },
  {
   "cell_type": "code",
   "execution_count": null,
   "id": "9447802e-522f-4e56-a0c6-da8412f30a59",
   "metadata": {},
   "outputs": [],
   "source": []
  },
  {
   "cell_type": "code",
   "execution_count": 24,
   "id": "8be94b8d-cd73-4e93-98c2-efd449c71901",
   "metadata": {},
   "outputs": [
    {
     "name": "stdout",
     "output_type": "stream",
     "text": [
      "Division: {2.0}\n"
     ]
    }
   ],
   "source": [
    "print(f\"Division:\",{num1/num2})"
   ]
  },
  {
   "cell_type": "code",
   "execution_count": 25,
   "id": "ab8f6f8d-220a-4569-8af8-2cdf88253e5b",
   "metadata": {},
   "outputs": [
    {
     "name": "stdout",
     "output_type": "stream",
     "text": [
      "Addition: 15\n"
     ]
    }
   ],
   "source": [
    "print(\"Addition:\",num1+num2)"
   ]
  },
  {
   "cell_type": "code",
   "execution_count": 31,
   "id": "491f9aaa-b7f1-4297-950b-1f204a4c85fa",
   "metadata": {},
   "outputs": [
    {
     "data": {
      "text/plain": [
       "bool"
      ]
     },
     "execution_count": 31,
     "metadata": {},
     "output_type": "execute_result"
    }
   ],
   "source": [
    "# boolean\n",
    "m=False\n",
    "type(m)"
   ]
  },
  {
   "cell_type": "code",
   "execution_count": 32,
   "id": "ced53a2c-6b35-43b5-92eb-73300f0dd7e7",
   "metadata": {},
   "outputs": [
    {
     "data": {
      "text/plain": [
       "bool"
      ]
     },
     "execution_count": 32,
     "metadata": {},
     "output_type": "execute_result"
    }
   ],
   "source": [
    "a=True\n",
    "type(a)\n"
   ]
  },
  {
   "cell_type": "code",
   "execution_count": 34,
   "id": "12172f1d-b7e1-4894-8694-2b26f1ca2450",
   "metadata": {},
   "outputs": [
    {
     "name": "stdout",
     "output_type": "stream",
     "text": [
      "a=10,b=20,c=30\n"
     ]
    }
   ],
   "source": [
    "a,b,c=10,20,30\n",
    "print(f\"a={a},b={b},c={c}\")"
   ]
  },
  {
   "cell_type": "code",
   "execution_count": 35,
   "id": "78ddbe5d-0de8-4c67-85ea-9ac6eb7a1c3c",
   "metadata": {},
   "outputs": [
    {
     "name": "stdout",
     "output_type": "stream",
     "text": [
      "it is a string\n"
     ]
    }
   ],
   "source": [
    "print(\"it is a string\")\n"
   ]
  },
  {
   "cell_type": "code",
   "execution_count": 38,
   "id": "07c5231e-6767-434f-b9fa-36e166bd5a45",
   "metadata": {},
   "outputs": [
    {
     "name": "stdout",
     "output_type": "stream",
     "text": [
      "\n",
      "once upon a time.\n",
      "There was a crow.\n",
      "He was very thirsty.\n",
      "\n"
     ]
    }
   ],
   "source": [
    "# write multiline\n",
    "story='''\n",
    "once upon a time.\n",
    "There was a crow.\n",
    "He was very thirsty.\n",
    "'''\n",
    "print(story)\n",
    "\n"
   ]
  },
  {
   "cell_type": "code",
   "execution_count": null,
   "id": "5b469d32-e0c8-46f6-8f97-86ce8271d89c",
   "metadata": {},
   "outputs": [],
   "source": [
    "# sring is always write in double \" \" or single ' ' quote\n"
   ]
  },
  {
   "cell_type": "code",
   "execution_count": 39,
   "id": "64413cc6-a089-43bc-8a00-76b3362f8d02",
   "metadata": {},
   "outputs": [
    {
     "name": "stdout",
     "output_type": "stream",
     "text": [
      "\n",
      "once upon a time.\n",
      "There was a crow.\n",
      "He was very thirsty.\n",
      "\n"
     ]
    }
   ],
   "source": [
    "story=\"\"\"\n",
    "once upon a time.\n",
    "There was a crow.\n",
    "He was very thirsty.\n",
    "\"\"\"\n",
    "print(story)\n",
    "\n"
   ]
  },
  {
   "cell_type": "code",
   "execution_count": 40,
   "id": "e01f6bfd-8c89-41a7-a068-9f990e660c38",
   "metadata": {},
   "outputs": [
    {
     "name": "stdout",
     "output_type": "stream",
     "text": [
      "True\n"
     ]
    }
   ],
   "source": [
    "txt=\"The best things in life are Free\"\n",
    "print(\"Free\" in txt)"
   ]
  },
  {
   "cell_type": "code",
   "execution_count": 41,
   "id": "43e86a7b-5225-4f06-a967-d7b012dbae0b",
   "metadata": {},
   "outputs": [
    {
     "name": "stdout",
     "output_type": "stream",
     "text": [
      "False\n"
     ]
    }
   ],
   "source": [
    "print(\"Expensive\" in txt)"
   ]
  },
  {
   "cell_type": "code",
   "execution_count": 42,
   "id": "2d602d31-c14a-469f-a652-8da7959efb5b",
   "metadata": {},
   "outputs": [
    {
     "name": "stdout",
     "output_type": "stream",
     "text": [
      "True\n"
     ]
    }
   ],
   "source": [
    "print(\"Expensive\" not in txt)\n"
   ]
  },
  {
   "cell_type": "code",
   "execution_count": 2,
   "id": "af3da3fc-e120-4dff-a774-c81dc85f9cf0",
   "metadata": {},
   "outputs": [
    {
     "name": "stdout",
     "output_type": "stream",
     "text": [
      "I am student at Quaid_I_Azam university Islamabad.\n"
     ]
    }
   ],
   "source": [
    "str_1=\"I am student at Quaid_I_Azam university\"\n",
    "str_2=\"Islamabad\"\n",
    "full=str_1+\" \"+str_2+\".\"\n",
    "print(full)"
   ]
  },
  {
   "cell_type": "code",
   "execution_count": 4,
   "id": "7a98b9bb-6ffc-4b68-8e34-e61a3709bb6a",
   "metadata": {},
   "outputs": [
    {
     "name": "stdout",
     "output_type": "stream",
     "text": [
      "llo\n"
     ]
    }
   ],
   "source": [
    "# Slicing\n",
    "b=\"Hello,World!\"\n",
    "print(b[2:5])"
   ]
  },
  {
   "cell_type": "code",
   "execution_count": 7,
   "id": "3baf4b4d-4cde-492a-908c-023f3ac68ff1",
   "metadata": {},
   "outputs": [
    {
     "name": "stdout",
     "output_type": "stream",
     "text": [
      "llo, world!\n"
     ]
    }
   ],
   "source": [
    "# slice to the end\n",
    "b=\"Hello, world!\"\n",
    "print(b[2: ])"
   ]
  },
  {
   "cell_type": "code",
   "execution_count": 9,
   "id": "43d893f8-1ba4-4bcf-a03c-120c7f661928",
   "metadata": {},
   "outputs": [
    {
     "name": "stdout",
     "output_type": "stream",
     "text": [
      "Hello,\n"
     ]
    }
   ],
   "source": [
    "# slice from start\n",
    "b=\"Hello,world!\"\n",
    "print(b[:6])"
   ]
  },
  {
   "cell_type": "code",
   "execution_count": 10,
   "id": "58371ae3-2e68-4fa3-b9ed-5989fca8921e",
   "metadata": {},
   "outputs": [
    {
     "name": "stdout",
     "output_type": "stream",
     "text": [
      "wo\n"
     ]
    }
   ],
   "source": [
    "# negative indexing\n",
    "b=\"Hello world\"\n",
    "print(b[-5:-3])"
   ]
  },
  {
   "cell_type": "code",
   "execution_count": 13,
   "id": "7d2b69d9-0a83-4985-beb5-8c03dd73003a",
   "metadata": {},
   "outputs": [
    {
     "name": "stdout",
     "output_type": "stream",
     "text": [
      "My name is Laiba Kiyani,I am 22\n"
     ]
    }
   ],
   "source": [
    "age=22\n",
    "txt=f\"My name is Laiba Kiyani,I am {age}\"\n",
    "print(txt)"
   ]
  },
  {
   "cell_type": "code",
   "execution_count": 14,
   "id": "d94a1310-eb5a-44c6-a22d-b6b781162eeb",
   "metadata": {},
   "outputs": [
    {
     "data": {
      "text/plain": [
       "str"
      ]
     },
     "execution_count": 14,
     "metadata": {},
     "output_type": "execute_result"
    }
   ],
   "source": [
    "# String of Float Conversion\n",
    "gpa=\"2.5\"\n",
    "type(gpa)\n"
   ]
  },
  {
   "cell_type": "code",
   "execution_count": 15,
   "id": "727cc32c-48aa-4c23-83b2-6bc0a6542aa4",
   "metadata": {},
   "outputs": [
    {
     "data": {
      "text/plain": [
       "float"
      ]
     },
     "execution_count": 15,
     "metadata": {},
     "output_type": "execute_result"
    }
   ],
   "source": [
    "gpa=float(gpa)\n",
    "type(gpa)\n"
   ]
  },
  {
   "cell_type": "code",
   "execution_count": 21,
   "id": "4741a035-75fd-4768-909e-b93a2daad193",
   "metadata": {},
   "outputs": [
    {
     "name": "stdin",
     "output_type": "stream",
     "text": [
      "GPA: 3.5\n"
     ]
    }
   ],
   "source": [
    "gpa=input(\"GPA:\")\n"
   ]
  },
  {
   "cell_type": "code",
   "execution_count": 22,
   "id": "3081852d-55a8-4975-96eb-217184894700",
   "metadata": {},
   "outputs": [
    {
     "name": "stdout",
     "output_type": "stream",
     "text": [
      "3.5\n"
     ]
    }
   ],
   "source": [
    "print(gpa)"
   ]
  },
  {
   "cell_type": "code",
   "execution_count": null,
   "id": "bfa12eeb-a732-4267-ae55-dc1ea442a30d",
   "metadata": {},
   "outputs": [],
   "source": []
  }
 ],
 "metadata": {
  "kernelspec": {
   "display_name": "Python 3 (ipykernel)",
   "language": "python",
   "name": "python3"
  },
  "language_info": {
   "codemirror_mode": {
    "name": "ipython",
    "version": 3
   },
   "file_extension": ".py",
   "mimetype": "text/x-python",
   "name": "python",
   "nbconvert_exporter": "python",
   "pygments_lexer": "ipython3",
   "version": "3.13.5"
  }
 },
 "nbformat": 4,
 "nbformat_minor": 5
}
