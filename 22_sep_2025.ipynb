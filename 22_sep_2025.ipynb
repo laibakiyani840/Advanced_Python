{
 "cells": [
  {
   "cell_type": "markdown",
   "id": "6619f80a",
   "metadata": {},
   "source": [
    "#### Function Argunment In Python"
   ]
  },
  {
   "cell_type": "code",
   "execution_count": 5,
   "id": "34e36cb1",
   "metadata": {},
   "outputs": [],
   "source": [
    "def multiply(a,b):\n",
    "    return a*b"
   ]
  },
  {
   "cell_type": "code",
   "execution_count": 4,
   "id": "a25a483c",
   "metadata": {},
   "outputs": [
    {
     "name": "stdout",
     "output_type": "stream",
     "text": [
      "20\n"
     ]
    }
   ],
   "source": [
    "result=multiply(4,5)\n",
    "print(result)"
   ]
  },
  {
   "cell_type": "code",
   "execution_count": 11,
   "id": "c5832991",
   "metadata": {},
   "outputs": [],
   "source": [
    "def greet(name):\n",
    "    print(f\"Hello,{name}!\" )        "
   ]
  },
  {
   "cell_type": "code",
   "execution_count": 12,
   "id": "d5100231",
   "metadata": {},
   "outputs": [
    {
     "name": "stdout",
     "output_type": "stream",
     "text": [
      "Hello,Laiba Kiyani!\n"
     ]
    }
   ],
   "source": [
    "greet(\"Laiba Kiyani\")"
   ]
  },
  {
   "cell_type": "code",
   "execution_count": 13,
   "id": "d3a32910",
   "metadata": {},
   "outputs": [],
   "source": [
    "def add(a,b):\n",
    "    return a+b"
   ]
  },
  {
   "cell_type": "code",
   "execution_count": 14,
   "id": "1cbb1a03",
   "metadata": {},
   "outputs": [
    {
     "name": "stdout",
     "output_type": "stream",
     "text": [
      "12\n"
     ]
    }
   ],
   "source": [
    "print(add(3,9))"
   ]
  },
  {
   "cell_type": "code",
   "execution_count": 16,
   "id": "57e02766",
   "metadata": {},
   "outputs": [],
   "source": [
    "def fahr_to_celsius(temp):\n",
    "    return((temp)*(5/2))"
   ]
  },
  {
   "cell_type": "code",
   "execution_count": 17,
   "id": "4dc6f5ee",
   "metadata": {},
   "outputs": [
    {
     "name": "stdout",
     "output_type": "stream",
     "text": [
      "<function fahr_to_celsius at 0x000001D95E014EA0>\n"
     ]
    }
   ],
   "source": [
    "print(fahr_to_celsius)"
   ]
  },
  {
   "cell_type": "code",
   "execution_count": 26,
   "id": "af055573",
   "metadata": {},
   "outputs": [
    {
     "name": "stdout",
     "output_type": "stream",
     "text": [
      "✨ Welcome to Glamour Beauty Parlor ✨\n",
      "Choose a service:\n",
      "1. Hair Cut\n",
      "2. Facial\n",
      "3. Manicure\n",
      "4. Pedicure\n",
      "5. Makeup\n",
      "💄 Makeup: Professional makeup for your special occasion!\n"
     ]
    }
   ],
   "source": [
    "# Beauty Parlor Management System\n",
    "\n",
    "def hair_cut():\n",
    "    print(\"💇 Hair Cut: A stylish haircut for you!\")\n",
    "\n",
    "def facial():\n",
    "    print(\"💆 Facial: Deep cleansing and glowing facial treatment!\")\n",
    "\n",
    "def manicure():\n",
    "    print(\"💅 Manicure: Nail shaping, cuticle care, and polish.\")\n",
    "\n",
    "def pedicure():\n",
    "    print(\"🦶 Pedicure: Foot soak, scrubbing, and nail polish.\")\n",
    "\n",
    "def makeup():\n",
    "    print(\"💄 Makeup: Professional makeup for your special occasion!\")\n",
    "\n",
    "# Main menu to choose services\n",
    "def beauty_parlor():\n",
    "    services = {\n",
    "        1: hair_cut,\n",
    "        2: facial,\n",
    "        3: manicure,\n",
    "        4: pedicure,\n",
    "        5: makeup\n",
    "    }\n",
    "\n",
    "    print(\"✨ Welcome to Glamour Beauty Parlor ✨\")\n",
    "    print(\"Choose a service:\")\n",
    "    print(\"1. Hair Cut\")\n",
    "    print(\"2. Facial\")\n",
    "    print(\"3. Manicure\")\n",
    "    print(\"4. Pedicure\")\n",
    "    print(\"5. Makeup\")\n",
    "\n",
    "    choice = int(input(\"Enter your choice (1-5): \"))\n",
    "    if choice in services:\n",
    "        services[choice]()\n",
    "    else:\n",
    "        print(\"❌ Invalid choice! Please try again.\")\n",
    "\n",
    "# Run the beauty parlor program\n",
    "if __name__ == \"__main__\":\n",
    "    beauty_parlor()\n"
   ]
  },
  {
   "cell_type": "code",
   "execution_count": 1,
   "id": "543a0f6b",
   "metadata": {},
   "outputs": [],
   "source": [
    "def divide(a, b):\n",
    "    return \"Cannot divide by zero!\" if b == 0 else a / b"
   ]
  },
  {
   "cell_type": "code",
   "execution_count": 4,
   "id": "62a1a728",
   "metadata": {},
   "outputs": [
    {
     "name": "stdout",
     "output_type": "stream",
     "text": [
      "Cannot divide by zero!\n"
     ]
    }
   ],
   "source": [
    "print(divide(2,0))"
   ]
  },
  {
   "cell_type": "code",
   "execution_count": 5,
   "id": "41157ab9",
   "metadata": {},
   "outputs": [
    {
     "name": "stdout",
     "output_type": "stream",
     "text": [
      "0.3333333333333333\n"
     ]
    }
   ],
   "source": [
    "print(divide(2,6))"
   ]
  }
 ],
 "metadata": {
  "kernelspec": {
   "display_name": "base",
   "language": "python",
   "name": "python3"
  },
  "language_info": {
   "codemirror_mode": {
    "name": "ipython",
    "version": 3
   },
   "file_extension": ".py",
   "mimetype": "text/x-python",
   "name": "python",
   "nbconvert_exporter": "python",
   "pygments_lexer": "ipython3",
   "version": "3.13.5"
  }
 },
 "nbformat": 4,
 "nbformat_minor": 5
}
