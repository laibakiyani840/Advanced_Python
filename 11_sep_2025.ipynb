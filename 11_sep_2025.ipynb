{
 "cells": [
  {
   "cell_type": "code",
   "execution_count": 2,
   "id": "559e339a-d3ec-471e-b24a-f71ab4c10129",
   "metadata": {},
   "outputs": [
    {
     "name": "stdout",
     "output_type": "stream",
     "text": [
      "8\n"
     ]
    }
   ],
   "source": [
    "# Program to add number\n",
    "l=5\n",
    "k=3\n",
    "print(l+k)\n"
   ]
  },
  {
   "cell_type": "code",
   "execution_count": 3,
   "id": "68cc474f-b17d-4f4b-b225-2a04bb99229e",
   "metadata": {},
   "outputs": [
    {
     "data": {
      "text/plain": [
       "int"
      ]
     },
     "execution_count": 3,
     "metadata": {},
     "output_type": "execute_result"
    }
   ],
   "source": [
    "u=45\n",
    "type(u)"
   ]
  },
  {
   "cell_type": "code",
   "execution_count": 4,
   "id": "5aa2ef0a-9110-43bf-a233-3b63c48132e3",
   "metadata": {},
   "outputs": [
    {
     "name": "stdout",
     "output_type": "stream",
     "text": [
      "<class 'int'>\n"
     ]
    }
   ],
   "source": [
    "print(type(u))"
   ]
  },
  {
   "cell_type": "code",
   "execution_count": 5,
   "id": "eec2ba48-9969-4afe-9a5e-16bb1ff5b1f7",
   "metadata": {},
   "outputs": [
    {
     "name": "stdout",
     "output_type": "stream",
     "text": [
      "Laiba\n",
      "<class 'str'>\n"
     ]
    }
   ],
   "source": [
    "name=\"Laiba\"\n",
    "print(name)\n",
    "print(type(name))\n"
   ]
  },
  {
   "cell_type": "code",
   "execution_count": 6,
   "id": "e24be8c4-07bc-449c-b48d-24ccedb14199",
   "metadata": {},
   "outputs": [
    {
     "data": {
      "text/plain": [
       "8"
      ]
     },
     "execution_count": 6,
     "metadata": {},
     "output_type": "execute_result"
    }
   ],
   "source": [
    "5+3\n"
   ]
  },
  {
   "cell_type": "code",
   "execution_count": 7,
   "id": "8de2505a-33da-4856-824b-95991871b2ef",
   "metadata": {},
   "outputs": [
    {
     "data": {
      "text/plain": [
       "-1"
      ]
     },
     "execution_count": 7,
     "metadata": {},
     "output_type": "execute_result"
    }
   ],
   "source": [
    "4-5"
   ]
  },
  {
   "cell_type": "code",
   "execution_count": 8,
   "id": "ca02a0f8-7138-44be-ab2d-c7aa119f505f",
   "metadata": {},
   "outputs": [
    {
     "data": {
      "text/plain": [
       "30"
      ]
     },
     "execution_count": 8,
     "metadata": {},
     "output_type": "execute_result"
    }
   ],
   "source": [
    "6*5"
   ]
  },
  {
   "cell_type": "code",
   "execution_count": 9,
   "id": "d215d6e0-0b8f-45d7-b1e0-4e574fa2a94b",
   "metadata": {},
   "outputs": [
    {
     "data": {
      "text/plain": [
       "9.0"
      ]
     },
     "execution_count": 9,
     "metadata": {},
     "output_type": "execute_result"
    }
   ],
   "source": [
    "# Division of Floating Value\n",
    "45/5\n"
   ]
  },
  {
   "cell_type": "code",
   "execution_count": 11,
   "id": "7a6ee233-8a84-4992-a2b7-ba5f443537e7",
   "metadata": {},
   "outputs": [
    {
     "data": {
      "text/plain": [
       "9"
      ]
     },
     "execution_count": 11,
     "metadata": {},
     "output_type": "execute_result"
    }
   ],
   "source": [
    "# division of floor value \n",
    "# (// They give integers values)\n",
    "45//5\n"
   ]
  },
  {
   "cell_type": "code",
   "execution_count": 12,
   "id": "6a76fdf8-e191-4b17-b287-d44b2e21de95",
   "metadata": {},
   "outputs": [
    {
     "data": {
      "text/plain": [
       "0"
      ]
     },
     "execution_count": 12,
     "metadata": {},
     "output_type": "execute_result"
    }
   ],
   "source": [
    "# Modulus (they give reminder)\n",
    "20%5\n",
    "\n"
   ]
  },
  {
   "cell_type": "code",
   "execution_count": 16,
   "id": "10d0e262-e6de-44b4-9764-65b4e486a06a",
   "metadata": {},
   "outputs": [
    {
     "name": "stdout",
     "output_type": "stream",
     "text": [
      "700\n"
     ]
    }
   ],
   "source": [
    "#Assignment Operator\n",
    "# add and assign\n",
    "v=650\n",
    "v+=50\n",
    "print(v)\n"
   ]
  },
  {
   "cell_type": "code",
   "execution_count": 20,
   "id": "5ba3a662-1c2f-4142-88ce-12042e675a8c",
   "metadata": {},
   "outputs": [
    {
     "name": "stdout",
     "output_type": "stream",
     "text": [
      "-10\n"
     ]
    }
   ],
   "source": [
    "o=40\n",
    "o-=50\n",
    "print(o)\n"
   ]
  },
  {
   "cell_type": "code",
   "execution_count": 21,
   "id": "6c4955e1-f1b3-436f-9e27-9e8910c9cf08",
   "metadata": {},
   "outputs": [
    {
     "name": "stdout",
     "output_type": "stream",
     "text": [
      "False\n"
     ]
    }
   ],
   "source": [
    "# Comparison Operator\n",
    "#equal\n",
    "print(4==5)\n"
   ]
  },
  {
   "cell_type": "code",
   "execution_count": 22,
   "id": "0efa56f0-5249-42aa-b3c2-43e8fbb18182",
   "metadata": {},
   "outputs": [
    {
     "name": "stdout",
     "output_type": "stream",
     "text": [
      "False\n"
     ]
    }
   ],
   "source": [
    "# Greater or equal\n",
    "print(4>=5)"
   ]
  },
  {
   "cell_type": "code",
   "execution_count": 23,
   "id": "ad69a312-45a9-45e5-b288-302e2d6061fa",
   "metadata": {},
   "outputs": [
    {
     "name": "stdout",
     "output_type": "stream",
     "text": [
      "False\n"
     ]
    }
   ],
   "source": [
    "print(4>5)\n"
   ]
  },
  {
   "cell_type": "code",
   "execution_count": 24,
   "id": "7dcff2a7-0392-4216-a8fc-d31d53a81be5",
   "metadata": {},
   "outputs": [
    {
     "name": "stdout",
     "output_type": "stream",
     "text": [
      "True\n"
     ]
    }
   ],
   "source": [
    "# Smaller or equal\n",
    "print(3<=5)"
   ]
  },
  {
   "cell_type": "code",
   "execution_count": 26,
   "id": "de31e5f6-4535-4909-b20c-9524aac85528",
   "metadata": {},
   "outputs": [
    {
     "name": "stdout",
     "output_type": "stream",
     "text": [
      "True\n"
     ]
    }
   ],
   "source": [
    "print(3<5)\n"
   ]
  },
  {
   "cell_type": "code",
   "execution_count": 27,
   "id": "bad082f5-4ab8-473a-9a47-cafb710a4558",
   "metadata": {},
   "outputs": [
    {
     "name": "stdout",
     "output_type": "stream",
     "text": [
      "True\n"
     ]
    }
   ],
   "source": [
    "# loGic Operator\n",
    "x=10\n",
    "y=20\n",
    "print(x>5 or y>15) # True because at least one condition is True\n"
   ]
  },
  {
   "cell_type": "code",
   "execution_count": 28,
   "id": "990b9c85-44bc-42ea-be1e-54429754a020",
   "metadata": {},
   "outputs": [
    {
     "name": "stdout",
     "output_type": "stream",
     "text": [
      "False\n"
     ]
    }
   ],
   "source": [
    "print(x>15 and y>15) # False because First condition is False"
   ]
  },
  {
   "cell_type": "code",
   "execution_count": 29,
   "id": "a56429e2-f6d4-4012-b20a-d6a93168cf82",
   "metadata": {},
   "outputs": [
    {
     "data": {
      "text/plain": [
       "str"
      ]
     },
     "execution_count": 29,
     "metadata": {},
     "output_type": "execute_result"
    }
   ],
   "source": [
    "# Explicit Data type conversion\n",
    "w=\"46\"\n",
    "type(w)"
   ]
  },
  {
   "cell_type": "code",
   "execution_count": 30,
   "id": "3120a653-0d4a-4701-84c5-4009dd5de332",
   "metadata": {},
   "outputs": [
    {
     "name": "stdout",
     "output_type": "stream",
     "text": [
      "<class 'int'>\n"
     ]
    }
   ],
   "source": [
    "w=int(w)\n",
    "print(type(w))"
   ]
  },
  {
   "cell_type": "code",
   "execution_count": 31,
   "id": "327785b1-29d2-4a69-8bd5-a465cf9cec9d",
   "metadata": {},
   "outputs": [
    {
     "name": "stdout",
     "output_type": "stream",
     "text": [
      "46\n"
     ]
    }
   ],
   "source": [
    "print(w)"
   ]
  },
  {
   "cell_type": "code",
   "execution_count": 32,
   "id": "d27d1218-5416-46ef-b246-bc7d4350f2d7",
   "metadata": {},
   "outputs": [
    {
     "name": "stdout",
     "output_type": "stream",
     "text": [
      "<class 'float'>\n"
     ]
    }
   ],
   "source": [
    "z=float(w)\n",
    "print(type(z))\n"
   ]
  },
  {
   "cell_type": "code",
   "execution_count": 33,
   "id": "be98650a-4315-4c22-ab0a-2317004c96c8",
   "metadata": {},
   "outputs": [
    {
     "name": "stdout",
     "output_type": "stream",
     "text": [
      "46.0\n"
     ]
    }
   ],
   "source": [
    "print(z)\n"
   ]
  },
  {
   "cell_type": "code",
   "execution_count": 34,
   "id": "9f0186af-b449-4bb3-afca-f56af52b6a56",
   "metadata": {},
   "outputs": [
    {
     "name": "stdout",
     "output_type": "stream",
     "text": [
      "laiba\n"
     ]
    }
   ],
   "source": [
    "name=\"laiba\"\n",
    "print(name)"
   ]
  },
  {
   "cell_type": "code",
   "execution_count": 37,
   "id": "7df25a1e-3e03-49e7-a665-34e664d2df6b",
   "metadata": {},
   "outputs": [
    {
     "name": "stdout",
     "output_type": "stream",
     "text": [
      "My name is Laiba Arshad.\n",
      " Mathematics is an interesting Subject.\n",
      " I am appling python course at QAU.\n"
     ]
    }
   ],
   "source": [
    "print(\"My name is Laiba Arshad.\\n Mathematics is an interesting Subject.\\n I am appling python course at QAU.\") # \\n is used for multiple line"
   ]
  },
  {
   "cell_type": "code",
   "execution_count": 40,
   "id": "1cbd7d99-66bc-42a6-80ae-dce256836851",
   "metadata": {},
   "outputs": [
    {
     "name": "stdout",
     "output_type": "stream",
     "text": [
      "0\n",
      "1\n",
      "2\n",
      "3\n",
      "4\n"
     ]
    }
   ],
   "source": [
    "# Range\n",
    "# Range() is used to generate sequences of number.\n",
    "# Step can be positive (Count up) and Negative (count down).\n",
    "# simple range stop\n",
    "for i in range(5):\n",
    "    print(i)\n"
   ]
  },
  {
   "cell_type": "code",
   "execution_count": 44,
   "id": "1fcb6ae8-c8b6-49f6-a72d-8f92bfa9b9ec",
   "metadata": {},
   "outputs": [
    {
     "name": "stdout",
     "output_type": "stream",
     "text": [
      "2\n",
      "3\n",
      "4\n",
      "5\n"
     ]
    }
   ],
   "source": [
    "# Range (start,stop)\n",
    "for i in range(2,6):\n",
    "    print(i)\n"
   ]
  },
  {
   "cell_type": "code",
   "execution_count": 49,
   "id": "5bcf9b36-bd69-432a-8cfa-375b6cb0c11a",
   "metadata": {},
   "outputs": [
    {
     "name": "stdout",
     "output_type": "stream",
     "text": [
      "0\n",
      "2\n",
      "4\n",
      "6\n",
      "8\n"
     ]
    }
   ],
   "source": [
    "# Range(start,stop,step size)\n",
    "for x in range(0, 10, 2):\n",
    "    print(x)"
   ]
  },
  {
   "cell_type": "code",
   "execution_count": 55,
   "id": "02b44446-fe26-4c27-bc88-02d656a3f66f",
   "metadata": {},
   "outputs": [
    {
     "name": "stdout",
     "output_type": "stream",
     "text": [
      "5\n",
      "4\n",
      "3\n",
      "2\n",
      "1\n",
      "Blastoff!\n"
     ]
    }
   ],
   "source": [
    "# range negative steps count down\n",
    "for y in range(5,0,-1):\n",
    "    print(y)\n",
    "print(\"Blastoff!\")"
   ]
  },
  {
   "cell_type": "code",
   "execution_count": 57,
   "id": "e6f11017-3540-4ce8-94ae-45e32a8633ac",
   "metadata": {},
   "outputs": [
    {
     "name": "stdout",
     "output_type": "stream",
     "text": [
      "[1, 2, 3, 4, 5, 6, 7, 8, 9, 10]\n"
     ]
    }
   ],
   "source": [
    "# Using with Listing\n",
    "nums=list(range(1,11))\n",
    "print(nums)\n"
   ]
  },
  {
   "cell_type": "code",
   "execution_count": null,
   "id": "d29d19f1-0460-4c22-824f-1a53133c8365",
   "metadata": {},
   "outputs": [],
   "source": []
  }
 ],
 "metadata": {
  "kernelspec": {
   "display_name": "Python 3 (ipykernel)",
   "language": "python",
   "name": "python3"
  },
  "language_info": {
   "codemirror_mode": {
    "name": "ipython",
    "version": 3
   },
   "file_extension": ".py",
   "mimetype": "text/x-python",
   "name": "python",
   "nbconvert_exporter": "python",
   "pygments_lexer": "ipython3",
   "version": "3.13.5"
  }
 },
 "nbformat": 4,
 "nbformat_minor": 5
}
