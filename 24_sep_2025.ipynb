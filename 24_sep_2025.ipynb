{
 "cells": [
  {
   "cell_type": "code",
   "execution_count": 7,
   "id": "03a8ed94",
   "metadata": {},
   "outputs": [],
   "source": [
    "def add():\n",
    "    return 229 + 20"
   ]
  },
  {
   "cell_type": "code",
   "execution_count": 8,
   "id": "8020b581",
   "metadata": {},
   "outputs": [
    {
     "name": "stdout",
     "output_type": "stream",
     "text": [
      "result := 249\n"
     ]
    }
   ],
   "source": [
    "print(\"result :=\", add())"
   ]
  },
  {
   "cell_type": "code",
   "execution_count": 9,
   "id": "b4508747",
   "metadata": {},
   "outputs": [
    {
     "name": "stdout",
     "output_type": "stream",
     "text": [
      "249\n"
     ]
    }
   ],
   "source": [
    "print(add())"
   ]
  },
  {
   "cell_type": "markdown",
   "id": "06d9bd1e",
   "metadata": {},
   "source": [
    "## Nested function"
   ]
  },
  {
   "cell_type": "markdown",
   "id": "19876012",
   "metadata": {},
   "source": [
    "##### function k ander function ho usy nested function kehte hai."
   ]
  },
  {
   "cell_type": "code",
   "execution_count": 10,
   "id": "85460200",
   "metadata": {},
   "outputs": [],
   "source": [
    "def outer_addition(a, b):\n",
    "    def inner_square(x):\n",
    "        return x * x\n",
    "    return inner_square(a) + inner_square(b)"
   ]
  },
  {
   "cell_type": "code",
   "execution_count": 12,
   "id": "4578e7e5",
   "metadata": {},
   "outputs": [
    {
     "name": "stdout",
     "output_type": "stream",
     "text": [
      "Sum of squares: 25\n"
     ]
    }
   ],
   "source": [
    "result = outer_addition(3, 4)\n",
    "print(\"Sum of squares:\", result)"
   ]
  },
  {
   "cell_type": "code",
   "execution_count": 31,
   "id": "8f60bbe4",
   "metadata": {},
   "outputs": [
    {
     "name": "stdout",
     "output_type": "stream",
     "text": [
      "* * * * * \n",
      "* * * * * \n",
      "* * * * * \n"
     ]
    }
   ],
   "source": [
    "# Print a rectangle of stars\n",
    "for i in range(3):\n",
    "    for j in range(5):\n",
    "        print(\"*\", end=\" \")\n",
    "    print()\n"
   ]
  },
  {
   "cell_type": "code",
   "execution_count": 32,
   "id": "e59f6884",
   "metadata": {},
   "outputs": [
    {
     "name": "stdout",
     "output_type": "stream",
     "text": [
      "5 x 1 = 5\n",
      "5 x 2 = 10\n",
      "5 x 3 = 15\n",
      "5 x 4 = 20\n",
      "5 x 5 = 25\n",
      "5 x 6 = 30\n",
      "5 x 7 = 35\n",
      "5 x 8 = 40\n",
      "5 x 9 = 45\n",
      "5 x 10 = 50\n"
     ]
    }
   ],
   "source": [
    "# Example: Multiplication Table\n",
    "num = 5\n",
    "for i in range(1, 11):\n",
    "    print(f\"{num} x {i} = {num * i}\")"
   ]
  },
  {
   "cell_type": "code",
   "execution_count": null,
   "id": "b4d20984",
   "metadata": {},
   "outputs": [],
   "source": []
  }
 ],
 "metadata": {
  "kernelspec": {
   "display_name": "base",
   "language": "python",
   "name": "python3"
  },
  "language_info": {
   "codemirror_mode": {
    "name": "ipython",
    "version": 3
   },
   "file_extension": ".py",
   "mimetype": "text/x-python",
   "name": "python",
   "nbconvert_exporter": "python",
   "pygments_lexer": "ipython3",
   "version": "3.13.5"
  }
 },
 "nbformat": 4,
 "nbformat_minor": 5
}
