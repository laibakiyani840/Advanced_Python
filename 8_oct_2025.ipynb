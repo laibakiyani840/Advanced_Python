{
 "cells": [
  {
   "cell_type": "markdown",
   "id": "c5764fe1",
   "metadata": {},
   "source": [
    "### **Exploring the Math Module in Python**"
   ]
  },
  {
   "cell_type": "code",
   "execution_count": 23,
   "id": "7cff28b2",
   "metadata": {},
   "outputs": [],
   "source": [
    "# import math module to use mathematical functions\n",
    "import math"
   ]
  },
  {
   "cell_type": "code",
   "execution_count": 22,
   "id": "01d052cc",
   "metadata": {},
   "outputs": [
    {
     "name": "stdout",
     "output_type": "stream",
     "text": [
      "1.4142135623730951\n"
     ]
    }
   ],
   "source": [
    "# Square root of 2\n",
    "print(math.sqrt(2))"
   ]
  },
  {
   "cell_type": "code",
   "execution_count": 25,
   "id": "99f025c7",
   "metadata": {},
   "outputs": [
    {
     "data": {
      "text/plain": [
       "1.4142135623730951"
      ]
     },
     "execution_count": 25,
     "metadata": {},
     "output_type": "execute_result"
    }
   ],
   "source": [
    "math.sqrt(2)"
   ]
  },
  {
   "cell_type": "code",
   "execution_count": null,
   "id": "4431523b",
   "metadata": {},
   "outputs": [],
   "source": []
  },
  {
   "cell_type": "code",
   "execution_count": 21,
   "id": "0f09f94d",
   "metadata": {},
   "outputs": [
    {
     "name": "stdout",
     "output_type": "stream",
     "text": [
      "16.0\n"
     ]
    }
   ],
   "source": [
    "# power of 2^4\n",
    "print(math.pow(2,4))"
   ]
  },
  {
   "cell_type": "code",
   "execution_count": 20,
   "id": "9db91cb2",
   "metadata": {},
   "outputs": [
    {
     "data": {
      "text/plain": [
       "4.0"
      ]
     },
     "execution_count": 20,
     "metadata": {},
     "output_type": "execute_result"
    }
   ],
   "source": [
    "# square root of 16\n",
    "math.sqrt(16)"
   ]
  },
  {
   "cell_type": "code",
   "execution_count": 19,
   "id": "7eda1b99",
   "metadata": {},
   "outputs": [
    {
     "name": "stdout",
     "output_type": "stream",
     "text": [
      "4.0\n"
     ]
    }
   ],
   "source": [
    "print(math.sqrt(16))"
   ]
  },
  {
   "cell_type": "code",
   "execution_count": 18,
   "id": "ddc5b47a",
   "metadata": {},
   "outputs": [
    {
     "data": {
      "text/plain": [
       "3"
      ]
     },
     "execution_count": 18,
     "metadata": {},
     "output_type": "execute_result"
    }
   ],
   "source": [
    "# Rounding up\n",
    "math.ceil(2.3)"
   ]
  },
  {
   "cell_type": "code",
   "execution_count": 15,
   "id": "3fbf2520",
   "metadata": {},
   "outputs": [
    {
     "data": {
      "text/plain": [
       "2"
      ]
     },
     "execution_count": 15,
     "metadata": {},
     "output_type": "execute_result"
    }
   ],
   "source": [
    "# Rounding down\n",
    "math.floor(2.3)"
   ]
  },
  {
   "cell_type": "code",
   "execution_count": 16,
   "id": "bee8a5b2",
   "metadata": {},
   "outputs": [
    {
     "data": {
      "text/plain": [
       "3.141592653589793"
      ]
     },
     "execution_count": 16,
     "metadata": {},
     "output_type": "execute_result"
    }
   ],
   "source": [
    "# Constants\n",
    "math.pi"
   ]
  },
  {
   "cell_type": "code",
   "execution_count": 17,
   "id": "514c9bdf",
   "metadata": {},
   "outputs": [
    {
     "data": {
      "text/plain": [
       "2.718281828459045"
      ]
     },
     "execution_count": 17,
     "metadata": {},
     "output_type": "execute_result"
    }
   ],
   "source": [
    "# Constants\n",
    "math.e"
   ]
  },
  {
   "cell_type": "code",
   "execution_count": 26,
   "id": "50a17c1e",
   "metadata": {},
   "outputs": [
    {
     "name": "stdout",
     "output_type": "stream",
     "text": [
      "1.0\n"
     ]
    }
   ],
   "source": [
    "\n",
    "import math\n",
    "angle=90\n",
    "print(math.sin(math.radians(angle)))"
   ]
  },
  {
   "cell_type": "markdown",
   "id": "c9e1fb65",
   "metadata": {},
   "source": [
    "### **Trignometric Function**"
   ]
  },
  {
   "cell_type": "code",
   "execution_count": null,
   "id": "a83a8cb5",
   "metadata": {},
   "outputs": [
    {
     "data": {
      "text/plain": [
       "0.8939966636005579"
      ]
     },
     "execution_count": 39,
     "metadata": {},
     "output_type": "execute_result"
    }
   ],
   "source": [
    "sin of 90(radians)\n",
    "math.sin(90)"
   ]
  },
  {
   "cell_type": "code",
   "execution_count": 31,
   "id": "95a1640f",
   "metadata": {},
   "outputs": [
    {
     "data": {
      "text/plain": [
       "-0.5984600690578581"
      ]
     },
     "execution_count": 31,
     "metadata": {},
     "output_type": "execute_result"
    }
   ],
   "source": [
    "math.cos(180)"
   ]
  },
  {
   "cell_type": "code",
   "execution_count": 32,
   "id": "21a532b8",
   "metadata": {},
   "outputs": [
    {
     "data": {
      "text/plain": [
       "1.6197751905438615"
      ]
     },
     "execution_count": 32,
     "metadata": {},
     "output_type": "execute_result"
    }
   ],
   "source": [
    "math.tan(45)"
   ]
  },
  {
   "cell_type": "code",
   "execution_count": 33,
   "id": "5bdb2eec",
   "metadata": {},
   "outputs": [
    {
     "data": {
      "text/plain": [
       "2.0"
      ]
     },
     "execution_count": 33,
     "metadata": {},
     "output_type": "execute_result"
    }
   ],
   "source": [
    "math.log(100,10)  # log of 100 to the base 10"
   ]
  },
  {
   "cell_type": "code",
   "execution_count": 40,
   "id": "d7a82d9e",
   "metadata": {},
   "outputs": [
    {
     "data": {
      "text/plain": [
       "2.302585092994046"
      ]
     },
     "execution_count": 40,
     "metadata": {},
     "output_type": "execute_result"
    }
   ],
   "source": [
    "# Natural log of 10\n",
    "math.log(10)"
   ]
  },
  {
   "cell_type": "code",
   "execution_count": 35,
   "id": "7276dcbc",
   "metadata": {},
   "outputs": [
    {
     "data": {
      "text/plain": [
       "4.605170185988092"
      ]
     },
     "execution_count": 35,
     "metadata": {},
     "output_type": "execute_result"
    }
   ],
   "source": [
    "math.log(100)"
   ]
  },
  {
   "cell_type": "code",
   "execution_count": 37,
   "id": "6db9d9ff",
   "metadata": {},
   "outputs": [
    {
     "data": {
      "text/plain": [
       "2.0"
      ]
     },
     "execution_count": 37,
     "metadata": {},
     "output_type": "execute_result"
    }
   ],
   "source": [
    "math.log10(100)  # log of 100 to the base e"
   ]
  },
  {
   "cell_type": "code",
   "execution_count": 41,
   "id": "23a282a4",
   "metadata": {},
   "outputs": [
    {
     "data": {
      "text/plain": [
       "1.0"
      ]
     },
     "execution_count": 41,
     "metadata": {},
     "output_type": "execute_result"
    }
   ],
   "source": [
    "# Base 10 log of 10\n",
    "math.log10(10)"
   ]
  },
  {
   "cell_type": "code",
   "execution_count": null,
   "id": "3ff95237",
   "metadata": {},
   "outputs": [],
   "source": []
  },
  {
   "cell_type": "code",
   "execution_count": 30,
   "id": "7811f725",
   "metadata": {},
   "outputs": [
    {
     "data": {
      "text/plain": [
       "1.0"
      ]
     },
     "execution_count": 30,
     "metadata": {},
     "output_type": "execute_result"
    }
   ],
   "source": [
    "math.sin(math.radians(90))"
   ]
  },
  {
   "cell_type": "code",
   "execution_count": 49,
   "id": "a43246b7",
   "metadata": {},
   "outputs": [
    {
     "data": {
      "text/plain": [
       "-0.9880316240928618"
      ]
     },
     "execution_count": 49,
     "metadata": {},
     "output_type": "execute_result"
    }
   ],
   "source": [
    "math.sin(30)"
   ]
  },
  {
   "cell_type": "code",
   "execution_count": 50,
   "id": "ca63ef03",
   "metadata": {},
   "outputs": [
    {
     "data": {
      "text/plain": [
       "0.5000010603626028"
      ]
     },
     "execution_count": 50,
     "metadata": {},
     "output_type": "execute_result"
    }
   ],
   "source": [
    "math.sin(0.5236)  # radians value of 30 degrees"
   ]
  },
  {
   "cell_type": "markdown",
   "id": "d57b08cd",
   "metadata": {},
   "source": [
    "#### **Converting degrees to radians**"
   ]
  },
  {
   "cell_type": "markdown",
   "id": "9281730d",
   "metadata": {},
   "source": [
    "#####  `0° × π/180 = 0`\n",
    "##### `30° × π/180 = 0.5236`\n",
    "##### `45° × π/180 = 0.785`\n",
    "##### `60° × π/180 = 1.047`\n",
    "##### `90° × π/180 = 1.570`"
   ]
  },
  {
   "cell_type": "code",
   "execution_count": 52,
   "id": "19040f98",
   "metadata": {},
   "outputs": [],
   "source": [
    "# values in Degree         values in radian         \n",
    "# sin(0)= 0                  sin(0)=0`\n",
    "# sin(30)=0.5                sin(0.5236)=0.009`\n",
    "# sin(45)=0.707              sin(0.785)=0.013`\n",
    "# sin(60)=0.866              sin(1.047)=0.018`\n",
    "# sin(90)= 1                 sin(1.570)=0.027`"
   ]
  },
  {
   "cell_type": "code",
   "execution_count": 48,
   "id": "89a9261c",
   "metadata": {},
   "outputs": [
    {
     "name": "stdout",
     "output_type": "stream",
     "text": [
      "0° -> sin=0.000000 (zero)\n",
      "30° -> sin=0.500000 (zero)\n",
      "45° -> sin=0.707107 (positive)\n",
      "60° -> sin=0.866025 (positive)\n",
      "90° -> sin=1.000000 (positive)\n"
     ]
    }
   ],
   "source": [
    "# Generate angles and classify their sine values\n",
    "import math\n",
    "angles = [0, 30, 45, 60, 90]\n",
    "for deg in angles:\n",
    "    rad = math.radians(deg)\n",
    "    s = math.sin(rad)\n",
    "    if abs(s) < 0.5:\n",
    "        label = \"zero\"\n",
    "    elif s > 0.6:\n",
    "        label = \"positive\"\n",
    "    else:\n",
    "        label = \"negative\"\n",
    "    print(f\"{deg}° -> sin={s:.6f} ({label})\")"
   ]
  },
  {
   "cell_type": "code",
   "execution_count": null,
   "id": "cb5deef9",
   "metadata": {},
   "outputs": [],
   "source": []
  }
 ],
 "metadata": {
  "kernelspec": {
   "display_name": "base",
   "language": "python",
   "name": "python3"
  },
  "language_info": {
   "codemirror_mode": {
    "name": "ipython",
    "version": 3
   },
   "file_extension": ".py",
   "mimetype": "text/x-python",
   "name": "python",
   "nbconvert_exporter": "python",
   "pygments_lexer": "ipython3",
   "version": "3.13.5"
  }
 },
 "nbformat": 4,
 "nbformat_minor": 5
}
