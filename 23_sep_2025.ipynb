{
 "cells": [
  {
   "cell_type": "code",
   "execution_count": 1,
   "id": "25ef1828",
   "metadata": {},
   "outputs": [],
   "source": [
    "def name():\n",
    "    print(\"you did't enter your name\")"
   ]
  },
  {
   "cell_type": "code",
   "execution_count": 2,
   "id": "99980e70",
   "metadata": {},
   "outputs": [
    {
     "name": "stdout",
     "output_type": "stream",
     "text": [
      "you did't enter your name\n"
     ]
    }
   ],
   "source": [
    "name()"
   ]
  },
  {
   "cell_type": "code",
   "execution_count": 6,
   "id": "12001b60",
   "metadata": {},
   "outputs": [],
   "source": [
    "def divide(a,b):\n",
    "    if a/b==0:\n",
    "        print(\"This number is completely divisble\")\n",
    "    else:\n",
    "        print(\"This number is not completely divisble\")\n",
    "\n"
   ]
  },
  {
   "cell_type": "code",
   "execution_count": 7,
   "id": "e2e68d88",
   "metadata": {},
   "outputs": [
    {
     "name": "stdout",
     "output_type": "stream",
     "text": [
      "This number is not completely divisble\n"
     ]
    }
   ],
   "source": [
    "divide(4,5)"
   ]
  },
  {
   "cell_type": "code",
   "execution_count": null,
   "id": "fe4f208c",
   "metadata": {},
   "outputs": [],
   "source": [
    "def divide(numerator,denominator):\n",
    "    if denominator==0:\n",
    "        returm \"Error:cannot divide by zero\"\n",
    "    return numerator/denominator\n"
   ]
  },
  {
   "cell_type": "code",
   "execution_count": 21,
   "id": "0bef14e0",
   "metadata": {},
   "outputs": [],
   "source": [
    "def food_items_price_per_kg(apple,mango):\n",
    "    if food_items_price_per_kg>=20:\n",
    "        return \"affordable price\" \n",
    "    return \"Price is too much\"\n"
   ]
  },
  {
   "cell_type": "code",
   "execution_count": 24,
   "id": "26bf4e76",
   "metadata": {},
   "outputs": [
    {
     "data": {
      "text/plain": [
       "'Price is too much'"
      ]
     },
     "execution_count": 24,
     "metadata": {},
     "output_type": "execute_result"
    }
   ],
   "source": [
    "def food_items_price_per_kg(apple, mango):\n",
    "    if apple <= 20 and mango <= 20:\n",
    "        return \"affordable price\"\n",
    "    return \"Price is too much\"\n",
    "\n",
    "food_items_price_per_kg(30, 20)"
   ]
  },
  {
   "cell_type": "code",
   "execution_count": 25,
   "id": "30dde677",
   "metadata": {},
   "outputs": [],
   "source": [
    "def divide(numerator, denominator):\n",
    "    if denominator == 0:\n",
    "        return \"Error: cannot divide by zero.\"\n",
    "    return numerator / denominator"
   ]
  },
  {
   "cell_type": "code",
   "execution_count": 27,
   "id": "95e9a8ab",
   "metadata": {},
   "outputs": [
    {
     "name": "stdout",
     "output_type": "stream",
     "text": [
      "5.0\n",
      "Error: cannot divide by zero.\n"
     ]
    }
   ],
   "source": [
    "result1=divide(10, 2)\n",
    "result2=divide(10,0)\n",
    "print(result1)\n",
    "print(result2)"
   ]
  },
  {
   "cell_type": "code",
   "execution_count": 28,
   "id": "21b3680e",
   "metadata": {},
   "outputs": [
    {
     "name": "stdout",
     "output_type": "stream",
     "text": [
      "5.0\n",
      "1.1111111111111112\n"
     ]
    }
   ],
   "source": [
    "result1=divide(10, 2)\n",
    "result2=divide(10,9)\n",
    "print(result1)\n",
    "print(result2)"
   ]
  },
  {
   "cell_type": "code",
   "execution_count": 35,
   "id": "363b6ce6",
   "metadata": {},
   "outputs": [
    {
     "name": "stdout",
     "output_type": "stream",
     "text": [
      "Name: Laiba kiyani, Age: 22, City: rawalpindi\n",
      "None\n"
     ]
    }
   ],
   "source": [
    "# keyword arguments\n",
    "def student_info(name, age, city):\n",
    "    print(f\"Name: {name}, Age: {age}, City: {city}\")\n",
    "info = student_info(age=22, city=\"rawalpindi\", name=\"Laiba kiyani\")\n",
    "print(info)"
   ]
  },
  {
   "cell_type": "markdown",
   "id": "d8276094",
   "metadata": {},
   "source": [
    "# positional arguments"
   ]
  },
  {
   "cell_type": "code",
   "execution_count": null,
   "id": "c5373700",
   "metadata": {},
   "outputs": [
    {
     "name": "stdout",
     "output_type": "stream",
     "text": [
      "Result: 20\n"
     ]
    }
   ],
   "source": [
    "\n",
    "def multiply_sum(a, b, c):  # a,b,c are positional arguments\n",
    "    return (a + b) * c\n",
    "\n",
    "result = multiply_sum(2, 3, 4)  # Pass values in correct position\n",
    "print(\"Result:\", result)"
   ]
  },
  {
   "cell_type": "code",
   "execution_count": null,
   "id": "a50cf884",
   "metadata": {},
   "outputs": [
    {
     "name": "stdout",
     "output_type": "stream",
     "text": [
      "240\n"
     ]
    }
   ],
   "source": [
    "def multiply_all(*nums):  # accepts any number of positional arguments\n",
    "    result = 1\n",
    "    for n in nums:\n",
    "        result *= n\n",
    "    return result\n",
    "\n",
    "print(multiply_all(2, 3, 4, 5))  # Output: 120\n"
   ]
  },
  {
   "cell_type": "code",
   "execution_count": 39,
   "id": "a5dcaf4e",
   "metadata": {},
   "outputs": [
    {
     "name": "stdout",
     "output_type": "stream",
     "text": [
      "14\n"
     ]
    }
   ],
   "source": [
    "def add_all(*nums):\n",
    "    return sum(nums)\n",
    "\n",
    "print(add_all(2, 5, 7))\n"
   ]
  },
  {
   "cell_type": "code",
   "execution_count": 42,
   "id": "6964d9b0",
   "metadata": {},
   "outputs": [
    {
     "name": "stdout",
     "output_type": "stream",
     "text": [
      "7.0\n"
     ]
    }
   ],
   "source": [
    "# average of numbers\n",
    "def average(*nums):\n",
    "    return sum(nums) / len(nums)\n",
    "print(average(4, 6, 8, 10))\n"
   ]
  },
  {
   "cell_type": "code",
   "execution_count": 41,
   "id": "f84e42ad",
   "metadata": {},
   "outputs": [
    {
     "name": "stdout",
     "output_type": "stream",
     "text": [
      "9\n"
     ]
    }
   ],
   "source": [
    "# Find maximum number\n",
    "def find_max(*nums):\n",
    "    return max(nums)\n",
    "print(find_max(3, 9, 1, 7))\n"
   ]
  },
  {
   "cell_type": "code",
   "execution_count": 43,
   "id": "d897fd6d",
   "metadata": {},
   "outputs": [
    {
     "name": "stdout",
     "output_type": "stream",
     "text": [
      "5\n"
     ]
    }
   ],
   "source": [
    "# Find Minimum\n",
    "def find_min(*nums):\n",
    "    return min(nums)\n",
    "print(find_min(12, 5, 7))\n"
   ]
  },
  {
   "cell_type": "code",
   "execution_count": 44,
   "id": "b50bc192",
   "metadata": {},
   "outputs": [
    {
     "name": "stdout",
     "output_type": "stream",
     "text": [
      "[8, 16, 32]\n"
     ]
    }
   ],
   "source": [
    "# Power of numbers\n",
    "def powers(base, *exponents):\n",
    "    return [base**e for e in exponents]\n",
    "print(powers(2, 3, 4, 5))\n"
   ]
  },
  {
   "cell_type": "markdown",
   "id": "2aed5df4",
   "metadata": {},
   "source": [
    "# keyword arguments\n"
   ]
  },
  {
   "cell_type": "code",
   "execution_count": 47,
   "id": "f452ade7",
   "metadata": {},
   "outputs": [
    {
     "name": "stdout",
     "output_type": "stream",
     "text": [
      "12\n"
     ]
    }
   ],
   "source": [
    "# 1. Addition of two numbers\n",
    "def add(a=0, b=0):\n",
    "    return a + b\n",
    "print(add(a=5, b=7))\n"
   ]
  },
  {
   "cell_type": "code",
   "execution_count": 48,
   "id": "aa057342",
   "metadata": {},
   "outputs": [
    {
     "name": "stdout",
     "output_type": "stream",
     "text": [
      "24\n"
     ]
    }
   ],
   "source": [
    "# 2. Area of a rectangle\n",
    "def area_rect(length=1, width=1):\n",
    "    return length * width\n",
    "print(area_rect(length=4, width=6))"
   ]
  },
  {
   "cell_type": "code",
   "execution_count": 49,
   "id": "cedea322",
   "metadata": {},
   "outputs": [
    {
     "name": "stdout",
     "output_type": "stream",
     "text": [
      "625\n"
     ]
    }
   ],
   "source": [
    "# 3. Power calculation\n",
    "def power(base=2, exp=3):\n",
    "    return base ** exp\n",
    "print(power(base=5, exp=4))"
   ]
  },
  {
   "cell_type": "code",
   "execution_count": 50,
   "id": "d4ae38e2",
   "metadata": {},
   "outputs": [
    {
     "name": "stdout",
     "output_type": "stream",
     "text": [
      "8.0\n"
     ]
    }
   ],
   "source": [
    "# 4. Average of three numbers\n",
    "def average(x=0, y=0, z=0):\n",
    "    return (x + y + z) / 3\n",
    "print(average(x=4, y=8, z=12))"
   ]
  },
  {
   "cell_type": "code",
   "execution_count": 51,
   "id": "2fc68dff",
   "metadata": {},
   "outputs": [
    {
     "name": "stdout",
     "output_type": "stream",
     "text": [
      "240.0\n"
     ]
    }
   ],
   "source": [
    "# 5. Simple interest\n",
    "def simple_interest(p=1000, r=5, t=2):\n",
    "    return (p * r * t) / 100\n",
    "print(simple_interest(p=2000, r=4, t=3))"
   ]
  },
  {
   "cell_type": "code",
   "execution_count": 56,
   "id": "991eb17a",
   "metadata": {},
   "outputs": [
    {
     "name": "stdout",
     "output_type": "stream",
     "text": [
      "78.53999999999999\n"
     ]
    }
   ],
   "source": [
    "# 6. Area of a circle\n",
    "def area_circle(radius=1, pi=3.1416):\n",
    "    return pi * radius**2\n",
    "print(area_circle(radius=5))"
   ]
  },
  {
   "cell_type": "code",
   "execution_count": 55,
   "id": "0da5a24d",
   "metadata": {},
   "outputs": [
    {
     "name": "stdout",
     "output_type": "stream",
     "text": [
      "12\n"
     ]
    }
   ],
   "source": [
    "# 7. Perimeter of a triangle\n",
    "def perimeter_triangle(a=1, b=1, c=1):\n",
    "    return a + b + c\n",
    "print(perimeter_triangle(a=3, b=4, c=5))\n"
   ]
  },
  {
   "cell_type": "code",
   "execution_count": 54,
   "id": "06d56cf8",
   "metadata": {},
   "outputs": [
    {
     "name": "stdout",
     "output_type": "stream",
     "text": [
      "77.0\n"
     ]
    }
   ],
   "source": [
    "# 8. Convert Celsius to Fahrenheit\n",
    "def c_to_f(c=0):\n",
    "    return (c * 9/5) + 32\n",
    "print(c_to_f(c=25))"
   ]
  },
  {
   "cell_type": "code",
   "execution_count": 53,
   "id": "35c5bcfa",
   "metadata": {},
   "outputs": [
    {
     "name": "stdout",
     "output_type": "stream",
     "text": [
      "60\n"
     ]
    }
   ],
   "source": [
    "# 9. Volume of a cuboid\n",
    "def volume_cuboid(length=1, width=1, height=1):\n",
    "    return length * width * height\n",
    "print(volume_cuboid(length=3, width=4, height=5))"
   ]
  },
  {
   "cell_type": "code",
   "execution_count": 52,
   "id": "301cb655",
   "metadata": {},
   "outputs": [
    {
     "name": "stdout",
     "output_type": "stream",
     "text": [
      "69\n"
     ]
    }
   ],
   "source": [
    "# 10. Quadratic evaluation ax² + bx + c\n",
    "def quadratic(a=1, b=0, c=0, x=1):\n",
    "    return a*x**2 + b*x + c\n",
    "print(quadratic(a=2, b=3, c=4, x=5))"
   ]
  },
  {
   "cell_type": "code",
   "execution_count": null,
   "id": "91c91ad4",
   "metadata": {},
   "outputs": [],
   "source": []
  }
 ],
 "metadata": {
  "kernelspec": {
   "display_name": "base",
   "language": "python",
   "name": "python3"
  },
  "language_info": {
   "codemirror_mode": {
    "name": "ipython",
    "version": 3
   },
   "file_extension": ".py",
   "mimetype": "text/x-python",
   "name": "python",
   "nbconvert_exporter": "python",
   "pygments_lexer": "ipython3",
   "version": "3.13.5"
  }
 },
 "nbformat": 4,
 "nbformat_minor": 5
}
