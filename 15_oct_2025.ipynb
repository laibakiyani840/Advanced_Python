{
 "cells": [
  {
   "cell_type": "markdown",
   "id": "d34bf165",
   "metadata": {},
   "source": [
    "### **Name:Laiba Arshad Kiyani**\n",
    "### **Assignment 1**\n",
    "### **`Topics`**\n",
    "###### **`1`. Numerical Method Solver**\n",
    "###### **`2`. Dice Roll Probability Stimulator**\n",
    "###### **`3`. Random Sample Mean Comparison**\n",
    "###### **`4`. Probability Stimulation Tool**\n",
    "###### **`5`. Random Behaviour AI Agent**\n"
   ]
  },
  {
   "cell_type": "markdown",
   "id": "6d293bcb",
   "metadata": {},
   "source": [
    "### **`Numerical Method Solver`**"
   ]
  },
  {
   "cell_type": "markdown",
   "id": "0fcc55ba",
   "metadata": {},
   "source": [
    "##### **Explanation**\n"
   ]
  },
  {
   "cell_type": "markdown",
   "id": "6b9afa1e",
   "metadata": {},
   "source": [
    "Defines the function: f(x)=x**3 - 4*x - 9\n",
    "Defines its derivative: f'(x)=3*x**2 - 4 \n",
    "Starts with an initial guess: x0 = 2\n",
    "Iterates up to max_iter = 20 times\n",
    "using the formula: x_n+1 = x_n - f(x_n) / f'(x_n)\n",
    "Stops early if the change between two guesses is smaller than tolerance = 0.0001\n",
    "Prints the root and the number of iterations."
   ]
  },
  {
   "cell_type": "code",
   "execution_count": 9,
   "id": "cdf0330e",
   "metadata": {},
   "outputs": [
    {
     "name": "stdout",
     "output_type": "stream",
     "text": [
      "Root found: 2.7065279544986476 after 5 iterations\n"
     ]
    }
   ],
   "source": [
    "# Newton-Raphson Method in Python\n",
    "\n",
    "def f(x):\n",
    "    return x**3 - 4*x - 9   # Example function\n",
    "\n",
    "def f_prime(x):\n",
    "    return 3*x**2 - 4       # Derivative of f(x)\n",
    "\n",
    "# Initial guess\n",
    "x0 = 2  \n",
    "tolerance = 0.0001\n",
    "max_iter = 20\n",
    "\n",
    "for i in range(max_iter):\n",
    "    x1 = x0 - f(x0) / f_prime(x0)       \n",
    "# x1 → new approximation of the root x0 → previous approximation\n",
    "# abs(x1 - x0) → the difference between the two consecutive guesses\n",
    "    if abs(x1 - x0) < tolerance:\n",
    "        print(f\"Root found: {x1} after {i+1} iterations\")\n",
    "        break\n",
    "    x0 = x1\n",
    "else:\n",
    "    print(\"Root not found within maximum iterations.\")\n",
    "\n"
   ]
  },
  {
   "cell_type": "markdown",
   "id": "9c2d5df9",
   "metadata": {},
   "source": [
    "### **`Dice Roll Probability Stimulator`**"
   ]
  },
  {
   "cell_type": "code",
   "execution_count": 15,
   "id": "11729971",
   "metadata": {},
   "outputs": [
    {
     "name": "stdout",
     "output_type": "stream",
     "text": [
      "Probability of rolling a 6: 0.3\n"
     ]
    }
   ],
   "source": [
    "import random # Imports Python’s built-in random module so we can generate random integers (simulate dice rolls).\n",
    "\n",
    "# def starts a function definition named dice_probability.\n",
    "# num_rolls is the function parameter — it tells the function how many times to roll the die.\n",
    "def dice_probability(num_rolls):\n",
    "    count_6 = 0   # count how many times we get 6\n",
    "    for i in range(num_rolls):\n",
    "        roll = random.randint(1, 6)   # roll one dice (1 to 6)\n",
    "        if roll == 6:\n",
    "            count_6 += 1              # add 1 if 6 comes\n",
    "    probability = count_6 / num_rolls  # use division operator to find probability\n",
    "    print(f\"Probability of rolling a 6: {probability:.1f}\")\n",
    "\n",
    "#  Run the simulator\n",
    "dice_probability(10)  # Calls the dice_probability function with num_rolls = 10.The function runs 10 simulated dice rolls and prints the estimated probability of rolling a 6."
   ]
  },
  {
   "cell_type": "markdown",
   "id": "7f841e30",
   "metadata": {},
   "source": [
    "### **`Random Sample Mean Comparison`**"
   ]
  },
  {
   "cell_type": "code",
   "execution_count": null,
   "id": "a313863a",
   "metadata": {},
   "outputs": [
    {
     "name": "stdout",
     "output_type": "stream",
     "text": [
      "Population mean: 50.5\n",
      "Sample values: [98, 85, 37, 29, 89, 30, 95, 40, 3, 46]\n",
      "Sample mean: 55.2\n",
      "Difference: 4.700000000000003\n"
     ]
    }
   ],
   "source": [
    "import random\n",
    "\n",
    "# Step 1: Create a population (numbers 1 to 100)\n",
    "population = list(range(1, 101))\n",
    "\n",
    "# Step 2: Find actual mean of the population\n",
    "actual_mean = sum(population) / len(population)\n",
    "\n",
    "# Step 3: Take a random sample from the population\n",
    "sample = random.sample(population, 10)   # take 10 random values\n",
    "\n",
    "#  Step 4: Calculate sample mean\n",
    "sample_mean = sum(sample) / len(sample)\n",
    "\n",
    "# Step 5: Compare means\n",
    "print(\"Population mean:\", actual_mean)\n",
    "print(\"Sample values:\", sample)\n",
    "print(\"Sample mean:\", sample_mean)\n",
    "print(\"Difference:\", abs(actual_mean - sample_mean))\n"
   ]
  },
  {
   "cell_type": "markdown",
   "id": "6cd17e0e",
   "metadata": {},
   "source": [
    "### **`Probability Stimulation Tool`**"
   ]
  },
  {
   "cell_type": "code",
   "execution_count": 17,
   "id": "ac30924a",
   "metadata": {},
   "outputs": [
    {
     "name": "stdout",
     "output_type": "stream",
     "text": [
      "Total trials: 1000\n",
      "Successful outcomes: 499\n",
      "Estimated Probability (even number): 0.499\n"
     ]
    }
   ],
   "source": [
    "import random\n",
    "\n",
    "def probability_simulator(trials):\n",
    "    success = 0   # count of successful outcomes\n",
    "\n",
    "    for i in range(trials):\n",
    "        # 🎯 Example event: roll a dice and check if it's even\n",
    "        roll = random.randint(1, 6)  # dice roll from 1 to 6\n",
    "        if roll % 2 == 0:            # check if even number\n",
    "            success += 1             # count success\n",
    "\n",
    "    probability = success / trials   # calculate probability\n",
    "    print(f\"Total trials: {trials}\")\n",
    "    print(f\"Successful outcomes: {success}\")\n",
    "    print(f\"Estimated Probability (even number): {probability:.3f}\")\n",
    "\n",
    "# 🧮 Run simulation\n",
    "probability_simulator(1000)\n"
   ]
  },
  {
   "cell_type": "markdown",
   "id": "4e991e5c",
   "metadata": {},
   "source": [
    "### **`Random Behaviour AI Agent`**"
   ]
  },
  {
   "cell_type": "code",
   "execution_count": 1,
   "id": "e7a9f010",
   "metadata": {},
   "outputs": [
    {
     "name": "stdout",
     "output_type": "stream",
     "text": [
      " Random Behavior AI Agent Started!\n",
      "\n",
      "Step 1 : Agent decides to turn left\n",
      "Step 2 : Agent decides to turn right\n",
      "Step 3 : Agent decides to jump\n",
      "Step 4 : Agent decides to move backward\n",
      "Step 5 : Agent decides to rest\n",
      "Step 6 : Agent decides to move backward\n",
      "Step 7 : Agent decides to turn left\n",
      "Step 8 : Agent decides to jump\n",
      "Step 9 : Agent decides to rest\n",
      "Step 10 : Agent decides to turn right\n",
      "\n",
      "Agent completed its random sequence.\n"
     ]
    }
   ],
   "source": [
    "import random\n",
    "\n",
    "# Define possible actions\n",
    "actions = [\"move forward\", \"move backward\", \"turn left\", \"turn right\", \"jump\", \"rest\"]\n",
    "\n",
    "def ai_agent(steps):\n",
    "    print(\" Random Behavior AI Agent Started!\\n\")\n",
    "\n",
    "    for step in range(steps):\n",
    "        # Randomly choose one action\n",
    "        action = random.choice(actions)\n",
    "        print(\"Step\", step + 1, \":\", \"Agent decides to\", action)\n",
    "\n",
    "    print(\"\\nAgent completed its random sequence.\")\n",
    "\n",
    "# Run the AI agent for 10 random actions\n",
    "ai_agent(10)\n"
   ]
  }
 ],
 "metadata": {
  "kernelspec": {
   "display_name": "base",
   "language": "python",
   "name": "python3"
  },
  "language_info": {
   "codemirror_mode": {
    "name": "ipython",
    "version": 3
   },
   "file_extension": ".py",
   "mimetype": "text/x-python",
   "name": "python",
   "nbconvert_exporter": "python",
   "pygments_lexer": "ipython3",
   "version": "3.13.5"
  }
 },
 "nbformat": 4,
 "nbformat_minor": 5
}
