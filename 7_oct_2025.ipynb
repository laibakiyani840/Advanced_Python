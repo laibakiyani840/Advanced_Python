{
 "cells": [
  {
   "cell_type": "markdown",
   "id": "f5dd38fc",
   "metadata": {},
   "source": [
    "### **Traditional Approach vs List Comprehension**"
   ]
  },
  {
   "cell_type": "markdown",
   "id": "dac2f3a1",
   "metadata": {},
   "source": [
    "##### **Traditional Loop**"
   ]
  },
  {
   "cell_type": "code",
   "execution_count": 7,
   "id": "40e29a93",
   "metadata": {},
   "outputs": [
    {
     "name": "stdout",
     "output_type": "stream",
     "text": [
      "[0, 1, 4, 9, 16]\n"
     ]
    }
   ],
   "source": [
    "result=[]\n",
    "for i in range(5):\n",
    "    result.append(i**2)\n",
    "print(result)"
   ]
  },
  {
   "cell_type": "code",
   "execution_count": null,
   "id": "758fff8b",
   "metadata": {},
   "outputs": [
    {
     "name": "stdout",
     "output_type": "stream",
     "text": [
      "Laiba Kiyani\n",
      "Mphil.Maths\n",
      "@laiba_kyiani\n"
     ]
    }
   ],
   "source": [
    "insta_ID=[\"Laiba Kiyani\",\"Mphil.Maths\",\"@laiba_kyiani\"]\n",
    "for i in insta_ID:\n",
    "    result.append(\n",
    "    print(i)\n"
   ]
  },
  {
   "cell_type": "code",
   "execution_count": 4,
   "id": "49528f0c",
   "metadata": {},
   "outputs": [
    {
     "name": "stdout",
     "output_type": "stream",
     "text": [
      "['APPLE', 'BANANA', 'CHERRY']\n"
     ]
    }
   ],
   "source": [
    "fruits=['apple', 'banana', 'cherry']\n",
    "upper_fruits=[fruit.upper() for fruit in fruits]\n",
    "print(upper_fruits)\n",
    "    "
   ]
  },
  {
   "cell_type": "code",
   "execution_count": null,
   "id": "6b37748e",
   "metadata": {},
   "outputs": [],
   "source": []
  }
 ],
 "metadata": {
  "kernelspec": {
   "display_name": "base",
   "language": "python",
   "name": "python3"
  },
  "language_info": {
   "codemirror_mode": {
    "name": "ipython",
    "version": 3
   },
   "file_extension": ".py",
   "mimetype": "text/x-python",
   "name": "python",
   "nbconvert_exporter": "python",
   "pygments_lexer": "ipython3",
   "version": "3.13.5"
  }
 },
 "nbformat": 4,
 "nbformat_minor": 5
}
