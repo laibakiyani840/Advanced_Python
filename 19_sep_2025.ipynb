{
 "cells": [
  {
   "cell_type": "markdown",
   "id": "51c5946c",
   "metadata": {},
   "source": [
    "#### Introduction to loop in python"
   ]
  },
  {
   "cell_type": "markdown",
   "id": "b2081f49",
   "metadata": {},
   "source": [
    "##### 1. While loop"
   ]
  },
  {
   "cell_type": "code",
   "execution_count": 3,
   "id": "b7c92e27",
   "metadata": {},
   "outputs": [
    {
     "name": "stdout",
     "output_type": "stream",
     "text": [
      "counting: 0\n",
      "counting: 1\n",
      "counting: 2\n"
     ]
    }
   ],
   "source": [
    "count=0\n",
    "while count<3:\n",
    "    print(\"counting:\",count)\n",
    "    count+=1"
   ]
  },
  {
   "cell_type": "code",
   "execution_count": 1,
   "id": "6db5347c",
   "metadata": {},
   "outputs": [
    {
     "name": "stdout",
     "output_type": "stream",
     "text": [
      "1\n",
      "2\n",
      "3\n",
      "4\n",
      "5\n",
      "6\n",
      "7\n",
      "8\n",
      "9\n",
      "10\n",
      "11\n",
      "12\n",
      "13\n",
      "14\n",
      "15\n",
      "16\n",
      "17\n",
      "18\n",
      "19\n",
      "20\n",
      "21\n",
      "22\n",
      "23\n",
      "24\n",
      "25\n",
      "26\n",
      "27\n",
      "28\n",
      "29\n",
      "30\n",
      "31\n",
      "32\n",
      "33\n",
      "34\n",
      "35\n",
      "36\n",
      "37\n",
      "38\n",
      "39\n",
      "40\n",
      "41\n",
      "42\n",
      "43\n",
      "44\n",
      "45\n",
      "46\n",
      "47\n",
      "48\n",
      "49\n",
      "50\n"
     ]
    }
   ],
   "source": [
    "i=1\n",
    "while(i<=50):\n",
    "    print(i)\n",
    "    i=i+1"
   ]
  },
  {
   "cell_type": "code",
   "execution_count": 8,
   "id": "02fea6e7",
   "metadata": {},
   "outputs": [
    {
     "name": "stdout",
     "output_type": "stream",
     "text": [
      "hello Laiba Kiyani\n"
     ]
    }
   ],
   "source": [
    "name=input(\"Enter your name:\")\n",
    "if name==\"\":\n",
    "    print(\"you did not enter your name\")\n",
    "else:\n",
    "    print(f\"hello {name}\")"
   ]
  },
  {
   "cell_type": "code",
   "execution_count": 9,
   "id": "5f935b6e",
   "metadata": {},
   "outputs": [
    {
     "name": "stdout",
     "output_type": "stream",
     "text": [
      "you did not enter your name\n"
     ]
    }
   ],
   "source": [
    "name=input(\"Enter your name:\")\n",
    "if name==\"\":\n",
    "    print(\"you did not enter your name\")\n",
    "else:\n",
    "    print(f\"hello{name}\")"
   ]
  },
  {
   "cell_type": "markdown",
   "id": "9b170f43",
   "metadata": {},
   "source": []
  },
  {
   "cell_type": "markdown",
   "id": "c2f40e2a",
   "metadata": {},
   "source": [
    "#### The range () function in Python"
   ]
  },
  {
   "cell_type": "code",
   "execution_count": 13,
   "id": "c3f6c803",
   "metadata": {},
   "outputs": [
    {
     "name": "stdout",
     "output_type": "stream",
     "text": [
      "0\n",
      "1\n",
      "2\n",
      "3\n",
      "4\n",
      "5\n"
     ]
    }
   ],
   "source": [
    "for i in range(0,6):\n",
    "    print(i)\n"
   ]
  },
  {
   "cell_type": "markdown",
   "id": "ddcc640e",
   "metadata": {},
   "source": [
    "#### The Break Statement in Pyton"
   ]
  },
  {
   "cell_type": "code",
   "execution_count": 13,
   "id": "82947efb",
   "metadata": {},
   "outputs": [
    {
     "name": "stdout",
     "output_type": "stream",
     "text": [
      "5\n"
     ]
    }
   ],
   "source": [
    "for number in range(10):\n",
    " if number==5:\n",
    "    break\n",
    "print(number)\n"
   ]
  },
  {
   "cell_type": "markdown",
   "id": "bbb669b8",
   "metadata": {},
   "source": [
    "#### The Continue Statement in Python"
   ]
  },
  {
   "cell_type": "code",
   "execution_count": 10,
   "id": "c8eaf42b",
   "metadata": {},
   "outputs": [
    {
     "name": "stdout",
     "output_type": "stream",
     "text": [
      "4\n"
     ]
    }
   ],
   "source": [
    "for i in range(5):\n",
    " if i== 2:\n",
    "    continue\n",
    "print(i)"
   ]
  }
 ],
 "metadata": {
  "kernelspec": {
   "display_name": "base",
   "language": "python",
   "name": "python3"
  },
  "language_info": {
   "codemirror_mode": {
    "name": "ipython",
    "version": 3
   },
   "file_extension": ".py",
   "mimetype": "text/x-python",
   "name": "python",
   "nbconvert_exporter": "python",
   "pygments_lexer": "ipython3",
   "version": "3.13.5"
  }
 },
 "nbformat": 4,
 "nbformat_minor": 5
}
