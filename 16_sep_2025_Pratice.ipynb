{
 "cells": [
  {
   "cell_type": "markdown",
   "id": "b34657c7-ae3a-4687-94d1-58d11f96e8af",
   "metadata": {},
   "source": [
    "# programming: Python"
   ]
  },
  {
   "cell_type": "code",
   "execution_count": 1,
   "id": "d9e3ef91-b80f-4f3d-b28c-3cffa1b751ed",
   "metadata": {},
   "outputs": [
    {
     "name": "stdout",
     "output_type": "stream",
     "text": [
      "Hello,World\n"
     ]
    }
   ],
   "source": [
    "print(\"Hello,World\")"
   ]
  },
  {
   "cell_type": "code",
   "execution_count": 2,
   "id": "76d0d626-5010-4aed-b6ef-8cbd484dbee3",
   "metadata": {},
   "outputs": [
    {
     "name": "stdout",
     "output_type": "stream",
     "text": [
      "12\n"
     ]
    }
   ],
   "source": [
    "age=12\n",
    "print(age)\n"
   ]
  },
  {
   "cell_type": "markdown",
   "id": "2b283eba-92bf-43c2-8434-52547cf2b9c9",
   "metadata": {},
   "source": [
    "## data type"
   ]
  },
  {
   "cell_type": "code",
   "execution_count": 3,
   "id": "39b590fe-095d-41d6-bc0c-093e92945f67",
   "metadata": {},
   "outputs": [
    {
     "data": {
      "text/plain": [
       "int"
      ]
     },
     "execution_count": 3,
     "metadata": {},
     "output_type": "execute_result"
    }
   ],
   "source": [
    "type(age)\n"
   ]
  },
  {
   "cell_type": "code",
   "execution_count": 4,
   "id": "8811966d-79d3-4639-bf7b-7653b3dcaac6",
   "metadata": {},
   "outputs": [
    {
     "name": "stdout",
     "output_type": "stream",
     "text": [
      "3.71\n"
     ]
    }
   ],
   "source": [
    "gpa=3.71\n",
    "print(gpa)"
   ]
  },
  {
   "cell_type": "markdown",
   "id": "6ca28740-1447-46e2-92ab-eb588709358a",
   "metadata": {},
   "source": [
    "type(gpa)\n"
   ]
  },
  {
   "cell_type": "code",
   "execution_count": 6,
   "id": "172d5a93-a6e9-4420-afee-919f2a827778",
   "metadata": {},
   "outputs": [
    {
     "name": "stdout",
     "output_type": "stream",
     "text": [
      "laiba\n"
     ]
    }
   ],
   "source": [
    "name=\"laiba\"\n",
    "print(name)\n"
   ]
  },
  {
   "cell_type": "code",
   "execution_count": 7,
   "id": "a37c96f1-6269-431f-bfc2-118783345d06",
   "metadata": {},
   "outputs": [
    {
     "data": {
      "text/plain": [
       "str"
      ]
     },
     "execution_count": 7,
     "metadata": {},
     "output_type": "execute_result"
    }
   ],
   "source": [
    "type(name)"
   ]
  },
  {
   "cell_type": "markdown",
   "id": "d6a4b77b-474a-42f7-b73a-9d7976186190",
   "metadata": {},
   "source": [
    "## List"
   ]
  },
  {
   "cell_type": "markdown",
   "id": "de7448b9-133f-414f-9f8d-ce9746c8eac9",
   "metadata": {},
   "source": [
    "A list in Python is an ordered,muteable(changeable) collection of items.This means:\n",
    "ordered: The items have a defined ordered, and that ordered will not change.You can access by their position(Index).\n",
    "Muteable: You can change ,add or remove item after the list has been created.\n",
    "Collection: A list can hold items of different data types(integers,float,strings even other lists!).\n"
   ]
  },
  {
   "cell_type": "markdown",
   "id": "6861ce77-860f-4f68-8568-82769c47daad",
   "metadata": {},
   "source": [
    "### 1. Creating list"
   ]
  },
  {
   "cell_type": "code",
   "execution_count": 13,
   "id": "fa98d834-fada-496a-b97e-c280843fbb78",
   "metadata": {},
   "outputs": [
    {
     "name": "stdout",
     "output_type": "stream",
     "text": [
      "[]\n"
     ]
    }
   ],
   "source": [
    "# empty list\n",
    "my_list=[]\n",
    "print(my_list)"
   ]
  },
  {
   "cell_type": "code",
   "execution_count": 14,
   "id": "a471bf98-01b8-43bc-9b8d-5cd3fdbc22eb",
   "metadata": {},
   "outputs": [
    {
     "name": "stdout",
     "output_type": "stream",
     "text": [
      "[1, 2, 3, 4.5]\n"
     ]
    }
   ],
   "source": [
    "# List of Numbers\n",
    "numbers=[1,2,3,4.5]\n",
    "print(numbers)"
   ]
  },
  {
   "cell_type": "code",
   "execution_count": 15,
   "id": "794d6d78-7b8d-4275-89b4-8e2dc91378d7",
   "metadata": {},
   "outputs": [
    {
     "name": "stdout",
     "output_type": "stream",
     "text": [
      "['Apple', 'Mango', 'Orange']\n"
     ]
    }
   ],
   "source": [
    "# list of string\n",
    "fruits=[\"Apple\",\"Mango\",\"Orange\"]\n",
    "print(fruits)"
   ]
  },
  {
   "cell_type": "code",
   "execution_count": 18,
   "id": "abf7ac84-10d1-42ac-8a3f-842f2a52d105",
   "metadata": {},
   "outputs": [
    {
     "name": "stdout",
     "output_type": "stream",
     "text": [
      "[1, 'Hello', 4.5, True]\n"
     ]
    }
   ],
   "source": [
    "# List with misx data\n",
    "mix_list=[1,\"Hello\",4.5,True]\n",
    "print(mix_list)"
   ]
  },
  {
   "cell_type": "code",
   "execution_count": 23,
   "id": "b0515059-e2e1-4dc3-9fa0-60984a23ffce",
   "metadata": {},
   "outputs": [
    {
     "name": "stdout",
     "output_type": "stream",
     "text": [
      "[[1, 2, 3], [4, 5, 6], [7, 8, 9]]\n"
     ]
    }
   ],
   "source": [
    "# Nested List(list of lists)\n",
    "matrix=[[1,2,3],[4,5,6],[7,8,9]]\n",
    "print(matrix)"
   ]
  },
  {
   "cell_type": "code",
   "execution_count": 25,
   "id": "33873876-ad31-4e2b-82f1-58e63f9c4254",
   "metadata": {},
   "outputs": [
    {
     "name": "stdout",
     "output_type": "stream",
     "text": [
      "apple\n",
      "banana\n",
      "cherry\n"
     ]
    }
   ],
   "source": [
    "fruits = [\"apple\", \"banana\", \"cherry\"]\n",
    "x, y, z = fruits\n",
    "print(x)\n",
    "print(y)\n",
    "print(z)"
   ]
  },
  {
   "cell_type": "markdown",
   "id": "9f53488c-25e7-41da-9029-94dcb84ae816",
   "metadata": {},
   "source": [
    "### 2. Accessing List elememt(Indexing)\n"
   ]
  },
  {
   "cell_type": "code",
   "execution_count": 24,
   "id": "d2d1cc10-6e98-4da6-9b38-b81425a1915b",
   "metadata": {},
   "outputs": [
    {
     "name": "stdout",
     "output_type": "stream",
     "text": [
      "apple\n",
      "cherry\n",
      "date\n",
      "banana\n"
     ]
    }
   ],
   "source": [
    "fruits = [\"apple\", \"banana\", \"cherry\", \"date\"]\n",
    "\n",
    "print(fruits[0])   # Output: apple (first element)\n",
    "print(fruits[2])   # Output: cherry (third element)\n",
    "print(fruits[-1])  # Output: date (last element)\n",
    "print(fruits[-3])  # Output: banana (third to last element)"
   ]
  },
  {
   "cell_type": "code",
   "execution_count": 26,
   "id": "afc4217d-949c-4b48-82dc-6715a6c4df33",
   "metadata": {},
   "outputs": [
    {
     "name": "stdout",
     "output_type": "stream",
     "text": [
      "2\n"
     ]
    }
   ],
   "source": [
    "# Accessing elements in a nested list\n",
    "print(matrix[0][1]) # Output: 2 (element at row 0, column 1)"
   ]
  },
  {
   "cell_type": "markdown",
   "id": "7678fc7f-01e0-4774-b903-36a1c4f50535",
   "metadata": {},
   "source": [
    "### 3. Slicing List"
   ]
  },
  {
   "cell_type": "markdown",
   "id": "192571a0-77f1-43c6-8605-d325f332f4f4",
   "metadata": {},
   "source": [
    "#### List Slicing\n",
    "###### Extracts a sub-list from a list using the syntax:\n",
    "###### list[start:end:step]\n",
    "\n",
    "#### Parameters:\n",
    "##### start (optional)\n",
    "\n",
    "###### Starting index (inclusive).\n",
    "###### Default: 0 (beginning of the list).\n",
    "#### end (optional)\n",
    "\n",
    "###### Ending index (exclusive).\n",
    "###### Default: len(list) (end of the list).\n",
    "#### step (optional)\n",
    "\n",
    "###### Interval between items.\n",
    "###### Default: 1 (every item)."
   ]
  },
  {
   "cell_type": "code",
   "execution_count": 1,
   "id": "383d261d-e696-4857-9014-ccce075b350f",
   "metadata": {},
   "outputs": [
    {
     "name": "stdout",
     "output_type": "stream",
     "text": [
      "[2, 3, 4, 5, 6]\n",
      "[0, 1, 2, 3, 4]\n",
      "[5, 6, 7, 8, 9]\n",
      "[0, 1, 2, 3, 4, 5, 6, 7, 8, 9]\n",
      "[0, 2, 4, 6, 8]\n",
      "[9, 8, 7, 6, 5, 4, 3, 2, 1, 0]\n"
     ]
    }
   ],
   "source": [
    "numbers = [0, 1, 2, 3, 4, 5, 6, 7, 8, 9]\n",
    "\n",
    "print(numbers[2:7])    # Output: [2, 3, 4, 5, 6] (elements from index 2 up to, but not including, index 7)\n",
    "print(numbers[:5])     # Output: [0, 1, 2, 3, 4] (elements from the beginning up to index 5)\n",
    "print(numbers[5:])     # Output: [5, 6, 7, 8, 9] (elements from index 5 to the end)\n",
    "print(numbers[:])      # Output: [0, 1, 2, 3, 4, 5, 6, 7, 8, 9] (a copy of the entire list)\n",
    "print(numbers[::2])    # Output: [0, 2, 4, 6, 8] (every second element)\n",
    "print(numbers[::-1])   # Output: [9, 8, 7, 6, 5, 4, 3, 2, 1, 0] (reverse the list)"
   ]
  },
  {
   "cell_type": "markdown",
   "id": "ca39c87d-3b9c-45f4-89a5-aa8dba495a0a",
   "metadata": {},
   "source": [
    "### 4. Modifying list\n",
    "#### Chaning element"
   ]
  },
  {
   "cell_type": "code",
   "execution_count": 2,
   "id": "2746b9d0-9cea-450e-b253-4ee6540777f6",
   "metadata": {},
   "outputs": [
    {
     "name": "stdout",
     "output_type": "stream",
     "text": [
      "['apple', 'orange', 'cherry']\n"
     ]
    }
   ],
   "source": [
    "fruits = [\"apple\", \"banana\", \"cherry\"]\n",
    "fruits[1] = \"orange\" # Change 'banana' to 'orange'\n",
    "print(fruits) # Output: ['apple', 'orange', 'cherry']\n"
   ]
  },
  {
   "cell_type": "markdown",
   "id": "73059928-ac03-4e97-8efb-832a2aa38875",
   "metadata": {},
   "source": [
    "#### Adding element"
   ]
  },
  {
   "cell_type": "code",
   "execution_count": 4,
   "id": "5858d66d-f891-4810-965e-96c35bf25010",
   "metadata": {},
   "outputs": [
    {
     "name": "stdout",
     "output_type": "stream",
     "text": [
      "[1, 2, 3, 4]\n",
      "[1, 99, 2, 3]\n",
      "[1, 2, 3, 4, 5]\n",
      "[1, 2, 3, 4]\n"
     ]
    }
   ],
   "source": [
    "my_list = [1, 2, 3]\n",
    "my_list.append(4)\n",
    "print(my_list) # Output: [1, 2, 3, 4]\n",
    "\n",
    "my_list = [1, 2, 3]\n",
    "my_list.insert(1, 99) # Insert 99 at index 1\n",
    "print(my_list) # Output: [1, 99, 2, 3]\n",
    "\n",
    "list1 = [1, 2, 3]\n",
    "list2 = [4, 5]\n",
    "list1.extend(list2)\n",
    "print(list1) # Output: [1, 2, 3, 4, 5]\n",
    "\n",
    "# You can also use the `+` operator for concatenation, but it creates a new list\n",
    "list3 = [1, 2]\n",
    "list4 = [3, 4]\n",
    "combined_list = list3 + list4\n",
    "print(combined_list) # Output: [1, 2, 3, 4]"
   ]
  },
  {
   "cell_type": "markdown",
   "id": "6288ea5e-8c4e-4495-bc6f-14415a7a7032",
   "metadata": {},
   "source": [
    "#### Removing Element"
   ]
  },
  {
   "cell_type": "code",
   "execution_count": 6,
   "id": "337e35fc-b5c9-46c5-9f6d-980f99b8c943",
   "metadata": {},
   "outputs": [
    {
     "name": "stdout",
     "output_type": "stream",
     "text": [
      "[1, 3, 2, 4]\n"
     ]
    }
   ],
   "source": [
    "my_list = [1, 2, 3, 2, 4]\n",
    "my_list.remove(2) # Removes the first '2'\n",
    "print(my_list) # Output: [1, 3, 2, 4]"
   ]
  },
  {
   "cell_type": "code",
   "execution_count": 7,
   "id": "1a9f320f-85aa-4117-aa5a-3198b0790119",
   "metadata": {},
   "outputs": [
    {
     "name": "stdout",
     "output_type": "stream",
     "text": [
      "20\n",
      "[10, 30, 40]\n",
      "40\n",
      "[10, 30]\n"
     ]
    }
   ],
   "source": [
    "my_list = [10, 20, 30, 40]\n",
    "removed_item = my_list.pop(1) # Removes element at index 1 (20)\n",
    "print(removed_item) # Output: 20\n",
    "print(my_list)      # Output: [10, 30, 40]\n",
    "\n",
    "last_item = my_list.pop() # Removes the last element (40)\n",
    "print(last_item)  # Output: 40\n",
    "print(my_list)    # Output: [10, 30]"
   ]
  },
  {
   "cell_type": "code",
   "execution_count": 8,
   "id": "423a6c2f-599c-4285-ab50-818664729351",
   "metadata": {},
   "outputs": [
    {
     "name": "stdout",
     "output_type": "stream",
     "text": [
      "[1, 2, 4, 5]\n",
      "[1, 5]\n"
     ]
    }
   ],
   "source": [
    "my_list = [1, 2, 3, 4, 5]\n",
    "del my_list[2] # Removes element at index 2 (3)\n",
    "print(my_list) # Output: [1, 2, 4, 5]\n",
    "\n",
    "del my_list[1:3] # Removes elements from index 1 up to (but not including) index 3\n",
    "print(my_list) # Output: [1, 5]"
   ]
  },
  {
   "cell_type": "code",
   "execution_count": 9,
   "id": "35551811-f8d2-4647-af04-5afc60a40ae6",
   "metadata": {},
   "outputs": [
    {
     "name": "stdout",
     "output_type": "stream",
     "text": [
      "[]\n"
     ]
    }
   ],
   "source": [
    "my_list = [1, 2, 3]\n",
    "my_list.clear()\n",
    "print(my_list) # Output: []"
   ]
  },
  {
   "cell_type": "code",
   "execution_count": 10,
   "id": "7ce1bbf5-217a-4336-a973-503d0c840808",
   "metadata": {},
   "outputs": [
    {
     "name": "stdout",
     "output_type": "stream",
     "text": [
      "5\n"
     ]
    }
   ],
   "source": [
    "my_list = [1, 2, 3, 4, 5]\n",
    "print(len(my_list)) # Output: 5"
   ]
  },
  {
   "cell_type": "code",
   "execution_count": 11,
   "id": "357d67aa-d602-451e-bae5-0cd9e55db88a",
   "metadata": {},
   "outputs": [
    {
     "name": "stdout",
     "output_type": "stream",
     "text": [
      "1\n",
      "3\n"
     ]
    }
   ],
   "source": [
    "my_list = [\"a\", \"b\", \"c\", \"b\"]\n",
    "print(my_list.index(\"b\")) # Output: 1\n",
    "print(my_list.index(\"b\", 2)) # Output: 3 (starts searching from index 2)"
   ]
  },
  {
   "cell_type": "code",
   "execution_count": 12,
   "id": "2df870b6-97ca-4846-9567-9eb3e3d7fe8b",
   "metadata": {},
   "outputs": [
    {
     "name": "stdout",
     "output_type": "stream",
     "text": [
      "3\n"
     ]
    }
   ],
   "source": [
    "my_list = [1, 2, 2, 3, 2, 4]\n",
    "print(my_list.count(2)) # Output: 3"
   ]
  },
  {
   "cell_type": "code",
   "execution_count": 13,
   "id": "b23b17a5-fbb5-4841-bf25-abd1191b7c72",
   "metadata": {},
   "outputs": [
    {
     "name": "stdout",
     "output_type": "stream",
     "text": [
      "[1, 1, 2, 3, 4, 5, 9]\n",
      "['cherry', 'banana', 'apple']\n"
     ]
    }
   ],
   "source": [
    "numbers = [3, 1, 4, 1, 5, 9, 2]\n",
    "numbers.sort()\n",
    "print(numbers) # Output: [1, 1, 2, 3, 4, 5, 9]\n",
    "\n",
    "words = [\"banana\", \"apple\", \"cherry\"]\n",
    "words.sort(reverse=True)\n",
    "print(words) # Output: ['cherry', 'banana', 'apple']"
   ]
  },
  {
   "cell_type": "code",
   "execution_count": 15,
   "id": "530be0f8-d8a4-479e-928b-1303d47de07c",
   "metadata": {},
   "outputs": [
    {
     "name": "stdout",
     "output_type": "stream",
     "text": [
      "[5, 4, 3, 2, 1]\n"
     ]
    }
   ],
   "source": [
    "my_list = [1, 2, 3, 4, 5]\n",
    "my_list.reverse()\n",
    "print(my_list) # Output: [5, 4, 3, 2, 1]"
   ]
  },
  {
   "cell_type": "markdown",
   "id": "4aa39f5f-6eba-418b-97e0-6664bdc71136",
   "metadata": {},
   "source": [
    "#### Tuple\n",
    "A tuple in Python is similar to a list in many ways, but with one crucial difference: tuples are immutable.\n",
    "- Ordered ✓\n",
    "Like lists, tuple items have a defined order, and that order will not change. You can access items by their position (index).\n",
    "- Immutable ✖\n",
    "Once a tuple is created, you cannot change, add, or remove its items. This is the key distinction from lists.\n",
    "- Heterogeneous Collection ⊛\n",
    "A tuple can hold items of different data types (integers, floats, strings, even other lists or tuples)."
   ]
  },
  {
   "cell_type": "code",
   "execution_count": 1,
   "id": "4f11daa3-f6b3-4c4c-b267-1ad30e253cf7",
   "metadata": {},
   "outputs": [
    {
     "name": "stdout",
     "output_type": "stream",
     "text": [
      "(1, 2, 3, 4, 5)\n"
     ]
    }
   ],
   "source": [
    "# Tuple of numbers\n",
    "numbers_tuple = (1, 2, 3, 4, 5)\n",
    "print(numbers_tuple) # Output: (1, 2, 3, 4, 5)"
   ]
  },
  {
   "cell_type": "code",
   "execution_count": 2,
   "id": "6f9e7740-5bbc-4162-a62e-9238faf98254",
   "metadata": {},
   "outputs": [
    {
     "name": "stdout",
     "output_type": "stream",
     "text": [
      "('apple', 'banana', 'cherry')\n"
     ]
    }
   ],
   "source": [
    "# Tuple of strings\n",
    "fruits_tuple = (\"apple\", \"banana\", \"cherry\")\n",
    "print(fruits_tuple) # Output: ('apple', 'banana', 'cherry')"
   ]
  },
  {
   "cell_type": "code",
   "execution_count": 3,
   "id": "cafc6810-19d5-4f4c-a272-91dbfd81d2a8",
   "metadata": {},
   "outputs": [
    {
     "name": "stdout",
     "output_type": "stream",
     "text": [
      "(1, 'hello', 3.14, False)\n"
     ]
    }
   ],
   "source": [
    "# Tuple with mixed data types\n",
    "mixed_tuple = (1, \"hello\", 3.14, False)\n",
    "print(mixed_tuple) # Output: (1, 'hello', 3.14, False)"
   ]
  },
  {
   "cell_type": "code",
   "execution_count": 4,
   "id": "e341211e-f691-4c05-a65e-e3c4844de1bd",
   "metadata": {},
   "outputs": [
    {
     "name": "stdout",
     "output_type": "stream",
     "text": [
      "((1, 2), (3, 4), (5, 6))\n"
     ]
    }
   ],
   "source": [
    "# Nested tuple (tuple of tuples)\n",
    "coordinates = ((1, 2), (3, 4), (5, 6))\n",
    "print(coordinates) # Output: ((1, 2), (3, 4), (5, 6))"
   ]
  },
  {
   "cell_type": "code",
   "execution_count": 5,
   "id": "90b08c80-b38a-4d76-8dfd-e064737fd498",
   "metadata": {},
   "outputs": [
    {
     "name": "stdout",
     "output_type": "stream",
     "text": [
      "apple\n",
      "cherry\n",
      "date\n"
     ]
    }
   ],
   "source": [
    "fruits_tuple = (\"apple\", \"banana\", \"cherry\", \"date\")\n",
    "\n",
    "print(fruits_tuple[0])   # Output: apple (first element)\n",
    "print(fruits_tuple[2])   # Output: cherry (third element)\n",
    "print(fruits_tuple[-1])  # Output: date (last element)"
   ]
  },
  {
   "cell_type": "code",
   "execution_count": 6,
   "id": "20364883-251a-4d6e-a1a3-61bd3b30f99d",
   "metadata": {},
   "outputs": [
    {
     "name": "stdout",
     "output_type": "stream",
     "text": [
      "20\n"
     ]
    }
   ],
   "source": [
    "# Accessing elements in a nested tuple\n",
    "nested_tuple = ((10, 20), (30, 40))\n",
    "print(nested_tuple[0][1]) # Output: 20 (element at tuple 0, index 1)"
   ]
  },
  {
   "cell_type": "code",
   "execution_count": 7,
   "id": "a07c1a02-961d-4ec0-a14f-66ea887363a9",
   "metadata": {},
   "outputs": [
    {
     "name": "stdout",
     "output_type": "stream",
     "text": [
      "(2, 3, 4, 5, 6)\n",
      "(0, 1, 2, 3, 4)\n",
      "(5, 6, 7, 8, 9)\n",
      "(0, 1, 2, 3, 4, 5, 6, 7, 8, 9)\n",
      "(0, 2, 4, 6, 8)\n",
      "(9, 8, 7, 6, 5, 4, 3, 2, 1, 0)\n"
     ]
    }
   ],
   "source": [
    "numbers_tuple = (0, 1, 2, 3, 4, 5, 6, 7, 8, 9)\n",
    "\n",
    "print(numbers_tuple[2:7])    # Output: (2, 3, 4, 5, 6)\n",
    "print(numbers_tuple[:5])     # Output: (0, 1, 2, 3, 4)\n",
    "print(numbers_tuple[5:])     # Output: (5, 6, 7, 8, 9)\n",
    "print(numbers_tuple[:])      # Output: (0, 1, 2, 3, 4, 5, 6, 7, 8, 9) (a copy of the entire tuple)\n",
    "print(numbers_tuple[::2])    # Output: (0, 2, 4, 6, 8)\n",
    "print(numbers_tuple[::-1])   # Output: (9, 8, 7, 6, 5, 4, 3, 2, 1, 0) (reverse the tuple)"
   ]
  },
  {
   "cell_type": "code",
   "execution_count": 9,
   "id": "7e2e5499-14da-4019-ac38-5b0eb97c3aee",
   "metadata": {},
   "outputs": [
    {
     "ename": "IndentationError",
     "evalue": "unexpected indent (454994833.py, line 3)",
     "output_type": "error",
     "traceback": [
      "\u001b[1;36m  Cell \u001b[1;32mIn[9], line 3\u001b[1;36m\u001b[0m\n\u001b[1;33m    my_tuple[0] = 10  # TypeError: 'tuple' object does not support item assignment\u001b[0m\n\u001b[1;37m    ^\u001b[0m\n\u001b[1;31mIndentationError\u001b[0m\u001b[1;31m:\u001b[0m unexpected indent\n"
     ]
    }
   ],
   "source": [
    "my_tuple = (1, 2, 3)\n",
    "\n",
    " my_tuple[0] = 10  # TypeError: 'tuple' object does not support item assignment\n",
    " my_tuple.append(4) # AttributeError: 'tuple' object has no attribute 'append'\n",
    " my_tuple.remove(2) # AttributeError: 'tuple' object has no attribute 'remove'\n",
    " del my_tuple[1]    # TypeError: 'tuple' object doesn't support item deletion"
   ]
  },
  {
   "cell_type": "code",
   "execution_count": 10,
   "id": "6f5c2457-1b2d-4cd1-bab8-574fe10046b4",
   "metadata": {},
   "outputs": [
    {
     "name": "stdout",
     "output_type": "stream",
     "text": [
      "(1, 2, 3, 4)\n"
     ]
    }
   ],
   "source": [
    "tuple1 = (1, 2)\n",
    "tuple2 = (3, 4)\n",
    "combined_tuple = tuple1 + tuple2\n",
    "print(combined_tuple) # Output: (1, 2, 3, 4)"
   ]
  },
  {
   "cell_type": "code",
   "execution_count": 11,
   "id": "262b7667-0420-4f96-8e62-e727c02d7a4e",
   "metadata": {},
   "outputs": [
    {
     "name": "stdout",
     "output_type": "stream",
     "text": [
      "('a', 'a', 'a')\n"
     ]
    }
   ],
   "source": [
    "repeated_tuple = (\"a\",) * 3\n",
    "print(repeated_tuple) # Output: ('a', 'a', 'a')"
   ]
  },
  {
   "cell_type": "code",
   "execution_count": 12,
   "id": "167f687e-2707-4123-b3c5-679871f2c5c1",
   "metadata": {},
   "outputs": [
    {
     "name": "stdout",
     "output_type": "stream",
     "text": [
      "3\n"
     ]
    }
   ],
   "source": [
    "my_tuple = (10, 20, 30)\n",
    "print(len(my_tuple)) # Output: 3"
   ]
  },
  {
   "cell_type": "code",
   "execution_count": 13,
   "id": "9140877a-569d-413b-9d6a-a0098d4f7387",
   "metadata": {},
   "outputs": [
    {
     "name": "stdout",
     "output_type": "stream",
     "text": [
      "3\n"
     ]
    }
   ],
   "source": [
    "my_tuple = (1, 2, 2, 3, 2)\n",
    "print(my_tuple.count(2)) # Output: 3"
   ]
  },
  {
   "cell_type": "code",
   "execution_count": 14,
   "id": "39a218a2-50e6-421d-adda-ce75549db6b1",
   "metadata": {},
   "outputs": [
    {
     "name": "stdout",
     "output_type": "stream",
     "text": [
      "1\n"
     ]
    }
   ],
   "source": [
    "my_tuple = (\"a\", \"b\", \"c\")\n",
    "print(my_tuple.index(\"b\")) # Output: 1"
   ]
  },
  {
   "cell_type": "code",
   "execution_count": 15,
   "id": "8184b05d-1f89-4310-ad61-b39d071b4811",
   "metadata": {},
   "outputs": [
    {
     "name": "stdout",
     "output_type": "stream",
     "text": [
      "True\n",
      "True\n"
     ]
    }
   ],
   "source": [
    "my_tuple = (\"red\", \"green\", \"blue\")\n",
    "print(\"green\" in my_tuple)    # Output: True\n",
    "print(\"yellow\" not in my_tuple) # Output: True"
   ]
  },
  {
   "cell_type": "code",
   "execution_count": null,
   "id": "4959b935-927e-4243-8556-47f53a83ee6f",
   "metadata": {},
   "outputs": [],
   "source": []
  }
 ],
 "metadata": {
  "kernelspec": {
   "display_name": "Python 3 (ipykernel)",
   "language": "python",
   "name": "python3"
  },
  "language_info": {
   "codemirror_mode": {
    "name": "ipython",
    "version": 3
   },
   "file_extension": ".py",
   "mimetype": "text/x-python",
   "name": "python",
   "nbconvert_exporter": "python",
   "pygments_lexer": "ipython3",
   "version": "3.13.5"
  }
 },
 "nbformat": 4,
 "nbformat_minor": 5
}
